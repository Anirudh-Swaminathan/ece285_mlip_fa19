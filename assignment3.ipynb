{
 "cells": [
  {
   "cell_type": "markdown",
   "metadata": {},
   "source": [
    "# Assignment 3 - Transfer Learning"
   ]
  },
  {
   "cell_type": "markdown",
   "metadata": {},
   "source": [
    "### Name: Anirudh Swaminathan\n",
    "### PID: A53316083\n",
    "### Email ID: aswamina@eng.ucsd.edu"
   ]
  },
  {
   "cell_type": "markdown",
   "metadata": {},
   "source": [
    "#### Notebook created by Anirudh Swaminathan from ECE department majoring in Intelligent Systems, Robotics and Control for the course ECE285 Machine Learning for Image Processing for Fall 2019"
   ]
  },
  {
   "cell_type": "markdown",
   "metadata": {},
   "source": [
    "## Getting Started"
   ]
  },
  {
   "cell_type": "code",
   "execution_count": null,
   "metadata": {},
   "outputs": [],
   "source": [
    "%matplotlib notebook\n",
    "\n",
    "import os\n",
    "import numpy as np\n",
    "import torch\n",
    "from torch import nn\n",
    "from torch.nn import functional as F\n",
    "import torch.utils.data as td\n",
    "import torchvision as tv\n",
    "import pandas as pd\n",
    "from PIL import Image\n",
    "from matplotlib import pyplot as plt"
   ]
  },
  {
   "cell_type": "code",
   "execution_count": null,
   "metadata": {},
   "outputs": [],
   "source": [
    "# select the relevant device\n",
    "device = 'cuda' if torch.cuda.is_available() else 'cpu'\n",
    "print(device)"
   ]
  },
  {
   "cell_type": "markdown",
   "metadata": {},
   "source": [
    "## Data Loader"
   ]
  },
  {
   "cell_type": "markdown",
   "metadata": {},
   "source": [
    "#### Question 1"
   ]
  },
  {
   "cell_type": "code",
   "execution_count": null,
   "metadata": {},
   "outputs": [],
   "source": [
    "dataset_root_dir = '/datasets/ee285f-public/caltech_ucsd_birds/'"
   ]
  },
  {
   "cell_type": "code",
   "execution_count": null,
   "metadata": {},
   "outputs": [],
   "source": [
    "# Using the getpass.getuser() and socket.gethostname()\n",
    "import getpass\n",
    "import socket\n",
    "\n",
    "user = getpass.getuser()\n",
    "hostname = socket.gethostname()\n",
    "print(user)\n",
    "print(hostname)"
   ]
  },
  {
   "cell_type": "markdown",
   "metadata": {},
   "source": [
    "We have created the $dataset\\_root\\_dir$ and made it point to the Bird dataset directory"
   ]
  },
  {
   "cell_type": "markdown",
   "metadata": {},
   "source": [
    "#### Question 2"
   ]
  },
  {
   "cell_type": "code",
   "execution_count": null,
   "metadata": {},
   "outputs": [],
   "source": [
    "class BirdsDataset(td.Dataset):\n",
    "    \n",
    "    def __init__(self, root_dir, mode=\"train\", image_size=(224, 224)):\n",
    "        super(BirdsDataset, self).__init__()\n",
    "        self.image_size = image_size\n",
    "        self.mode = mode\n",
    "        \n",
    "        # data is a pandas DataFrame\n",
    "        self.data = pd.read_csv(os.path.join(root_dir, \"%s.csv\" % mode))\n",
    "        self.images_dir = os.path.join(root_dir, \"CUB_200_2011/images\")\n",
    "    \n",
    "    def __len__(self):\n",
    "        return len(self.data)\n",
    "    \n",
    "    def __repr__(self):\n",
    "        return \"BirdsDataset(mode={}, image_size={})\".format(self.mode, self.image_size)\n",
    "    \n",
    "    def __getitem__(self, idx):\n",
    "        # For the idxth entry, choose the value that is in the column file_path\n",
    "        img_path = os.path.join(self.images_dir, self.data.iloc[idx]['file_path'])\n",
    "        \n",
    "        # the bounding box coordinates are at the x1, y1, x2, and y2 columns\n",
    "        bbox = self.data.iloc[idx][['x1', 'y1', 'x2', 'y2']]\n",
    "        \n",
    "        # open the image\n",
    "        img = Image.open(img_path).convert('RGB')\n",
    "        img = img.crop([bbox[0], bbox[1], bbox[2], bbox[3]])\n",
    "        transform = tv.transforms.Compose([\n",
    "            # resize the image to image_size\n",
    "            tv.transforms.Resize(self.image_size),\n",
    "            \n",
    "            # convert to torch tensor\n",
    "            tv.transforms.ToTensor(),\n",
    "            \n",
    "            # Normalize each channel from [-1, 1]\n",
    "            tv.transforms.Normalize((0.5, 0.5, 0.5), (0.5, 0.5, 0.5)),\n",
    "        ])\n",
    "        \n",
    "        # apply the transform on the image\n",
    "        x = transform(img)\n",
    "        \n",
    "        # access the data from the panda DataFrame at the idxth row and the class column\n",
    "        d = self.data.iloc[idx]['class']\n",
    "        return x, d\n",
    "    \n",
    "    def number_of_classes(self):\n",
    "        return self.data['class'].max() + 1"
   ]
  },
  {
   "cell_type": "markdown",
   "metadata": {},
   "source": [
    "Completed the torchvision transforms compose function. <br>\n",
    "I resize the image using $tv.transforms.Resize()$ function. Then the image is converted to a torch tensor using the $tv.transforms.ToTensor()$ function. Finally, I normalize the image using the $tv.transforms.Normalize()$ function. <br>\n"
   ]
  },
  {
   "cell_type": "markdown",
   "metadata": {},
   "source": [
    "#### Question 3"
   ]
  },
  {
   "cell_type": "code",
   "execution_count": null,
   "metadata": {},
   "outputs": [],
   "source": [
    "def myimshow(image, ax=plt):\n",
    "    image = image.to('cpu').numpy()\n",
    "    image = np.moveaxis(image, [0, 1, 2], [2, 0, 1])\n",
    "    image = (image + 1) / 2\n",
    "    image[image<0] = 0\n",
    "    image[image>1] = 1\n",
    "    h = ax.imshow(image)\n",
    "    ax.axis('off')\n",
    "    return h"
   ]
  },
  {
   "cell_type": "code",
   "execution_count": null,
   "metadata": {},
   "outputs": [],
   "source": [
    "# train_set is an instance of BirdDataset\n",
    "train_set = BirdsDataset(root_dir=dataset_root_dir)\n",
    "\n",
    "# access the element at the 10th index\n",
    "x, d_x = train_set.__getitem__(10)\n",
    "\n",
    "# myimshow to display the obtained image\n",
    "myimshow(x)"
   ]
  },
  {
   "cell_type": "code",
   "execution_count": null,
   "metadata": {},
   "outputs": [],
   "source": []
  }
 ],
 "metadata": {
  "kernelspec": {
   "display_name": "Python 3",
   "language": "python",
   "name": "python3"
  },
  "language_info": {
   "codemirror_mode": {
    "name": "ipython",
    "version": 3
   },
   "file_extension": ".py",
   "mimetype": "text/x-python",
   "name": "python",
   "nbconvert_exporter": "python",
   "pygments_lexer": "ipython3",
   "version": "3.7.3"
  }
 },
 "nbformat": 4,
 "nbformat_minor": 2
}
