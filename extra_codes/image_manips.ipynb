{
 "cells": [
  {
   "cell_type": "markdown",
   "metadata": {},
   "source": [
    "# Image Manipulation Codes"
   ]
  },
  {
   "cell_type": "code",
   "execution_count": null,
   "metadata": {},
   "outputs": [],
   "source": [
    "%matplotlib notebook\n",
    "\n",
    "from PIL import Image\n",
    "import os\n",
    "from matplotlib import pyplot as plt\n",
    "import numpy as np\n",
    "import torchvision as tv\n",
    "import torch"
   ]
  },
  {
   "cell_type": "code",
   "execution_count": null,
   "metadata": {},
   "outputs": [],
   "source": [
    "im_dir = '/datasets/ee285f-public/caltech_ucsd_birds/CUB_200_2011/images/002.Laysan_Albatross'\n",
    "img_path = os.path.join(im_dir, \"Laysan_Albatross_0033_658.jpg\")\n",
    "# img_path = os.path.join(im_dir, \"010.Red_winged_Blackbird/Red_Winged_Blackbird_0062_4233.jpg\")\n",
    "img = Image.open(img_path).convert('RGB')\n",
    "print(type(img), img.getextrema())\n",
    "img = img.crop([0.0, 0.0, 447.0, 334.0])\n",
    "print(type(img), img.getextrema())\n",
    "transform = tv.transforms.Compose([\n",
    "            # resize the image to image_size\n",
    "            tv.transforms.Resize((224, 224)),\n",
    "            \n",
    "            # convert to torch tensor\n",
    "            tv.transforms.ToTensor(),\n",
    "    \n",
    "            # normalize\n",
    "            tv.transforms.Normalize((0.5, 0.5, 0.5), (0.5, 0.5, 0.5))\n",
    "        ])\n",
    "im = transform(img)\n",
    "print(im.min(), im.max())\n",
    "print(img_path)"
   ]
  },
  {
   "cell_type": "code",
   "execution_count": null,
   "metadata": {},
   "outputs": [],
   "source": [
    "def myimshow(image, ax=plt):\n",
    "    image = image.to('cpu').numpy()\n",
    "    image = np.moveaxis(image, [0, 1, 2], [2, 0, 1])\n",
    "    # image = np.array(image.getdata()).reshape(image.size[0], image.size[1], 3)\n",
    "    image = (image + 1) / 2\n",
    "    image[image < 0] = 0\n",
    "    image[image > 1] = 1\n",
    "    h = ax.imshow(image)\n",
    "    ax.axis(\"off\")\n",
    "    return h"
   ]
  },
  {
   "cell_type": "code",
   "execution_count": null,
   "metadata": {},
   "outputs": [],
   "source": [
    "print(type(im))\n",
    "myimshow(im)"
   ]
  },
  {
   "cell_type": "code",
   "execution_count": null,
   "metadata": {},
   "outputs": [],
   "source": []
  }
 ],
 "metadata": {
  "kernelspec": {
   "display_name": "Python 3",
   "language": "python",
   "name": "python3"
  },
  "language_info": {
   "codemirror_mode": {
    "name": "ipython",
    "version": 3
   },
   "file_extension": ".py",
   "mimetype": "text/x-python",
   "name": "python",
   "nbconvert_exporter": "python",
   "pygments_lexer": "ipython3",
   "version": "3.7.3"
  }
 },
 "nbformat": 4,
 "nbformat_minor": 2
}
