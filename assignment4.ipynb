{
 "cells": [
  {
   "cell_type": "markdown",
   "metadata": {},
   "source": [
    "# Assignment 4 - Image Denoising with Deep CNNs"
   ]
  },
  {
   "cell_type": "markdown",
   "metadata": {},
   "source": [
    "### Name: Anirudh Swaminathan\n",
    "### PID: A53316083\n",
    "### Email ID: aswamina@eng.ucsd.edu"
   ]
  },
  {
   "cell_type": "markdown",
   "metadata": {},
   "source": [
    "#### Notebook created by Anirudh Swaminathan from ECE department majoring in Intelligent Systems, Robotics and Control for the course ECE285 Machine Learning for Image Processing for Fall 2019"
   ]
  },
  {
   "cell_type": "markdown",
   "metadata": {},
   "source": [
    "## Getting Started"
   ]
  },
  {
   "cell_type": "code",
   "execution_count": null,
   "metadata": {},
   "outputs": [],
   "source": [
    "%matplotlib notebook\n",
    "\n",
    "import os\n",
    "import numpy as np\n",
    "import torch\n",
    "import torch.nn as nn\n",
    "import torch.nn.functional as F\n",
    "import torch.utils.data as td\n",
    "import torchvision as tv\n",
    "from PIL import Image\n",
    "import matplotlib.pyplot as plt\n",
    "import nntools as nt"
   ]
  },
  {
   "cell_type": "code",
   "execution_count": null,
   "metadata": {},
   "outputs": [],
   "source": [
    "# select the relevant device\n",
    "device = 'cuda' if torch.cuda.is_available() else 'cpu'\n",
    "print(device)"
   ]
  },
  {
   "cell_type": "markdown",
   "metadata": {},
   "source": [
    "## Creating noisy images of BSDS dataset with DataSet"
   ]
  },
  {
   "cell_type": "markdown",
   "metadata": {},
   "source": [
    "#### Question 1"
   ]
  },
  {
   "cell_type": "code",
   "execution_count": null,
   "metadata": {},
   "outputs": [],
   "source": [
    "dataset_root_dir = '/datasets/ee285f-public/bsds/'"
   ]
  },
  {
   "cell_type": "markdown",
   "metadata": {},
   "source": [
    "We have created the $dataset\\_root\\_dir$ and made it point to the BSDS dataset directory. "
   ]
  },
  {
   "cell_type": "markdown",
   "metadata": {},
   "source": [
    "#### Question 2"
   ]
  },
  {
   "cell_type": "code",
   "execution_count": null,
   "metadata": {},
   "outputs": [],
   "source": [
    "class NoisyBSDSDataset(td.Dataset):\n",
    "    \n",
    "    def __init__(self, root_dir, mode='train', image_size=(180, 180), sigma=30):\n",
    "        super(NoisyBSDSDataset, self).__init__()\n",
    "        self.mode = mode\n",
    "        self.image_size = image_size\n",
    "        self.sigma = sigma\n",
    "        self.images_dir = os.path.join(root_dir, mode)\n",
    "        self.files = os.listdir(self.images_dir)\n",
    "        \n",
    "    def __len__(self):\n",
    "        return len(self.files)\n",
    "    \n",
    "    def __repr__(self):\n",
    "        return \"NoisyBSDSDataset(mode={}, image_size={}, sigma={})\".format(self.mode, self.image_size, self.sigma)\n",
    "    \n",
    "    def __getitem__(self, idx):\n",
    "        img_path = os.path.join(self.images_dir, self.files[idx])\n",
    "        \n",
    "        # Read the original image\n",
    "        clean = Image.open(img_path).convert('RGB')\n",
    "        \n",
    "        # choose i as random index to start the row crop from\n",
    "        i = np.random.randint(clean.size[0] - self.image_size[0])\n",
    "        \n",
    "        # choose j as the random index to start the column crop from\n",
    "        j = np.random.randint(clean.size[1] - self.image_size[1])\n",
    "        # COMPLETE\n",
    "        # crop the image\n",
    "        clean = clean.crop([i, j, i+self.image_size[0], j+self.image_size[1]])\n",
    "        \n",
    "        # transform and normalize\n",
    "        transform = tv.transforms.Compose([\n",
    "            # convert to torch tensor\n",
    "            tv.transforms.ToTensor(),\n",
    "            \n",
    "            # Normalize each channel from [-1, 1]\n",
    "            tv.transforms.Normalize((0.5, 0.5, 0.5), (0.5, 0.5, 0.5)),\n",
    "        ])\n",
    "        \n",
    "        # apply the transform on the image\n",
    "        clean = transform(clean)\n",
    "        \n",
    "        noisy = clean + 2 / 255 * self.sigma * torch.randn(clean.shape)\n",
    "        return noisy, clean"
   ]
  },
  {
   "cell_type": "markdown",
   "metadata": {},
   "source": [
    "I initially cropped the image to the requried image_size from the random indices that were generated using the $.crop()$ method. <br>\n",
    "Then the image is converted to a torch tensor using the $tv.transforms.ToTensor()$ function. <br>\n",
    "$$\\textbf{NOTE:-} \\text{The }tv.trasforms.ToTensor() \\text{ converts the PIL image from range }(0, 255) \\text{ to a tensor of range }(0, 1)$$\n",
    "Finally, I normalize the image using the $tv.transforms.Normalize()$ function. <br>\n",
    "This function takes means and standard deviations for each channel as the input. Since each channel has been transformed to $(0, 1)$ by the $tv.transforms.ToTensor()$ function, we have the mean for each channel is $0.5$ and the standard deviation is $0.5$. <br>\n",
    "As given in the $PyTorch$ source code and documentation, the $tv.transforms.Normalize()$ function subtracts the mean for each channel from the image, and then divides by the standard deviation, so now the tensor in the range from $(0, 1)$ is converted to $\\left( \\frac{(0-0.5)}{0.5}, \\frac{(1-0.5)}{0.5} \\right)$, which is $(-1, 1)$. <br>\n",
    "Finallly, as given in the question, the noisy image is generated by creating a torch tensor whose elements are individually sampled from the standard normal distribution $\\mathcal{N} \\sim \\left(0, 1\\right)$. <br>\n",
    "This is then multiplied with the $\\sigma$ that we require to convert it to $\\mathcal{N} \\sim \\left(0, \\sigma \\right)$. <br>\n",
    "Finally, the noisy image is normalized using the $\\frac{2}{255}$ to ensure it is in the range of $(-1, 1)$."
   ]
  },
  {
   "cell_type": "markdown",
   "metadata": {},
   "source": [
    "#### Question 3"
   ]
  },
  {
   "cell_type": "code",
   "execution_count": null,
   "metadata": {},
   "outputs": [],
   "source": [
    "def myimshow(image, ax=plt):\n",
    "    image = image.to('cpu').numpy()\n",
    "    image = np.moveaxis(image, [0, 1, 2], [2, 0, 1])\n",
    "    image = (image + 1) / 2\n",
    "    image[image<0] = 0\n",
    "    image[image>1] = 1\n",
    "    h = ax.imshow(image)\n",
    "    ax.axis('off')\n",
    "    return h"
   ]
  },
  {
   "cell_type": "code",
   "execution_count": null,
   "metadata": {},
   "outputs": [],
   "source": [
    "# consider training set and the testing set from this class\n",
    "train_set = NoisyBSDSDataset(root_dir=dataset_root_dir)\n",
    "test_set = NoisyBSDSDataset(root_dir=dataset_root_dir, mode=\"test\", image_size=(320, 320))"
   ]
  },
  {
   "cell_type": "code",
   "execution_count": null,
   "metadata": {},
   "outputs": [],
   "source": [
    "# 12th index image in the testing set\n",
    "x = test_set.__getitem__(12)\n",
    "noi = x[0]\n",
    "cle = x[1]"
   ]
  },
  {
   "cell_type": "code",
   "execution_count": null,
   "metadata": {},
   "outputs": [],
   "source": [
    "print(type(noi), noi.dtype, noi.size(), noi.min(), noi.max())\n",
    "print(type(cle), cle.dtype, cle.size(), cle.min(), cle.max())"
   ]
  },
  {
   "cell_type": "code",
   "execution_count": null,
   "metadata": {},
   "outputs": [],
   "source": [
    "# Display Noisy and Clean image for the 12th index of the testing set\n",
    "fig, axes = plt.subplots(ncols=2)\n",
    "fig.suptitle(\"Noisy and clean image at index 12 of testing set\")\n",
    "\n",
    "myimshow(noi, ax=axes[0])\n",
    "axes[0].set_title(\"Noisy Image\")\n",
    "\n",
    "myimshow(cle, ax=axes[1])\n",
    "axes[1].set_title(\"Clean Image\")"
   ]
  },
  {
   "cell_type": "markdown",
   "metadata": {},
   "source": [
    "Created $train\\_set$ and $test\\_set$ as instances of the $NoisyBSDSDataset$ class. <br>\n",
    "Retrieved the item at index $12$ from the $test\\_set$. <br>\n",
    "Displayed the noisy and the clean images side-by-side for the $12^{th}$ index of the testing set, using the $myimshow()$ function."
   ]
  },
  {
   "cell_type": "code",
   "execution_count": null,
   "metadata": {},
   "outputs": [],
   "source": []
  }
 ],
 "metadata": {
  "kernelspec": {
   "display_name": "Python 3",
   "language": "python",
   "name": "python3"
  },
  "language_info": {
   "codemirror_mode": {
    "name": "ipython",
    "version": 3
   },
   "file_extension": ".py",
   "mimetype": "text/x-python",
   "name": "python",
   "nbconvert_exporter": "python",
   "pygments_lexer": "ipython3",
   "version": "3.7.3"
  }
 },
 "nbformat": 4,
 "nbformat_minor": 2
}
