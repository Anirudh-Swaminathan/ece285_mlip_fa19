{
 "cells": [
  {
   "cell_type": "markdown",
   "metadata": {},
   "source": [
    "# Assignment 2 - CNNs and PyTorch"
   ]
  },
  {
   "cell_type": "markdown",
   "metadata": {},
   "source": [
    "### Name: Anirudh Swaminathan\n",
    "### PID: A53316083\n",
    "### Email ID: aswamina@ucsd.edu"
   ]
  },
  {
   "cell_type": "markdown",
   "metadata": {},
   "source": [
    "#### Notebook created by Anirudh Swaminathan from ECE department majoring in Intelligent Systems, Robotics and Control for the course ECE285 Machine Learning for Image Processing for Fall 2019"
   ]
  },
  {
   "cell_type": "markdown",
   "metadata": {},
   "source": [
    "## Getting Started"
   ]
  },
  {
   "cell_type": "code",
   "execution_count": null,
   "metadata": {},
   "outputs": [],
   "source": [
    "import numpy as np\n",
    "import torch"
   ]
  },
  {
   "cell_type": "markdown",
   "metadata": {},
   "source": [
    "## Tensors"
   ]
  },
  {
   "cell_type": "markdown",
   "metadata": {},
   "source": [
    "#### Question 1"
   ]
  },
  {
   "cell_type": "code",
   "execution_count": null,
   "metadata": {},
   "outputs": [],
   "source": [
    "# Construct 5*3 tensor and print it\n",
    "x = torch.Tensor(5, 3)\n",
    "print(x)\n",
    "\n",
    "# printing its type\n",
    "print(type(x))\n",
    "\n",
    "# printing its data type\n",
    "print(x.dtype)"
   ]
  },
  {
   "cell_type": "markdown",
   "metadata": {},
   "source": [
    "$x$ was randomly initialized. $x$ is of type $\\textbf{torch.Tensor}$ and it's data is of type $\\text{torch.float32}$"
   ]
  },
  {
   "cell_type": "markdown",
   "metadata": {},
   "source": [
    "#### Question 2"
   ]
  },
  {
   "cell_type": "code",
   "execution_count": null,
   "metadata": {},
   "outputs": [],
   "source": [
    "y = torch.rand(5, 3)\n",
    "print(y)\n",
    "\n",
    "# Finding the type of y\n",
    "print(type(y))\n",
    "print(y.dtype)\n",
    "\n",
    "# Using randn() instead of rand()\n",
    "y1 = torch.randn(5, 3)\n",
    "print(y1)\n",
    "print(type(y1))\n",
    "print(y1.dtype)"
   ]
  },
  {
   "cell_type": "markdown",
   "metadata": {},
   "source": [
    "$y$ is a $(5, 3)$ tensor with random values distributed in a uniform distribution from $0$ to $1$<br>\n",
    "$y$ is of type $\\textbf{torch.Tensor}$ and it's data is of type torch.float32<br>\n",
    "$y_1$ is a $(5, 3)$ tensor with random values distributed as a Gaussian with mean $0$ and variance $1$. So, $y_1$ is a tensor filled with random values from a standard normal distribution<br>\n",
    "So, if we use $torch.randn()$ function instead of $torch.rand()$, we may get negative values for $torch.randn()$ but not for $torch.rand()$ function."
   ]
  },
  {
   "cell_type": "markdown",
   "metadata": {},
   "source": [
    "#### Question 3"
   ]
  },
  {
   "cell_type": "code",
   "execution_count": null,
   "metadata": {},
   "outputs": [],
   "source": [
    "x = x.double()\n",
    "y = y.double()\n",
    "print(x)\n",
    "print(y)"
   ]
  },
  {
   "cell_type": "markdown",
   "metadata": {},
   "source": [
    "The type displayed when we print $x$ and $y$ are $torch.float64$"
   ]
  },
  {
   "cell_type": "markdown",
   "metadata": {},
   "source": [
    "#### Question 4"
   ]
  },
  {
   "cell_type": "code",
   "execution_count": null,
   "metadata": {},
   "outputs": [],
   "source": [
    "# Initialize tensors with values directly\n",
    "x = torch.Tensor([[-0.1859, 1.3970, 0.5236],\n",
    "[ 2.3854, 0.0707, 2.1970],\n",
    "[-0.3587, 1.2359, 1.8951],\n",
    "[-0.1189, -0.1376, 0.4647],\n",
    "[-1.8968, 2.0164, 0.1092]])\n",
    "\n",
    "y = torch.Tensor([[ 0.4838, 0.5822, 0.2755],\n",
    "[ 1.0982, 0.4932, -0.6680],\n",
    "[ 0.7915, 0.6580, -0.5819],\n",
    "[ 0.3825, -1.1822, 1.5217],\n",
    "[ 0.6042, -0.2280, 1.3210]])"
   ]
  },
  {
   "cell_type": "code",
   "execution_count": null,
   "metadata": {},
   "outputs": [],
   "source": [
    "# Display the shapes of the two tensors x and y\n",
    "print(x.shape, y.shape)"
   ]
  },
  {
   "cell_type": "markdown",
   "metadata": {},
   "source": [
    "Shape of $x$ is $(5, 3)$. <br>\n",
    "Shape of $y$ is $(5, 3)$."
   ]
  },
  {
   "cell_type": "markdown",
   "metadata": {},
   "source": [
    "#### Question 5"
   ]
  },
  {
   "cell_type": "code",
   "execution_count": null,
   "metadata": {},
   "outputs": [],
   "source": [
    "# Stack 2 tensors\n",
    "z = torch.stack((x, y))"
   ]
  },
  {
   "cell_type": "code",
   "execution_count": null,
   "metadata": {},
   "outputs": [],
   "source": [
    "print(z, z.dtype, z.shape)"
   ]
  },
  {
   "cell_type": "code",
   "execution_count": null,
   "metadata": {},
   "outputs": [],
   "source": [
    "# Now, compare it with torch.cat()\n",
    "z1 = torch.cat((x, y), 0)\n",
    "z2 = torch.cat((x, y), 1)\n",
    "print(z1, z1.shape)\n",
    "print(z2, z2.shape)"
   ]
  },
  {
   "cell_type": "markdown",
   "metadata": {},
   "source": [
    "The shape of the tensor $z$ is $(2, 5, 3)$. <br>\n",
    "$torch.stack()$ stacks its arguments on a new dimension, i.e., on top of one another in this case. <br>\n",
    "\n",
    "We also compared it to $torch.cat()$. <br>\n",
    "In $torch.cat((x, y), 0)$, the tensor $y$ is concatenated to tensor $x$ along axis $0$, i.e., it is concatenated along the row. This results in a tensor that is of the shape $(10, 3)$ that is obtained by combining the two tensors, each of shape $(5, 3)$ row-wise. The output of this $torch.cat()$ is still the same dimension $(2D)$. <br>\n",
    "\n",
    "Similarly, in $torch.cat((x, y), 1)$, the tensor $y$ is concatenated to tensor $x$ along axis $1$, i.e., it is concatenated along the column. This results in a tensor that is of the shape $(5, 6)$ that is obtained by combining the two tensors, each of shape $(5, 3)$ column-wise. The output of this $torch.cat()$ is still the same dimension $(2D)$. "
   ]
  },
  {
   "cell_type": "markdown",
   "metadata": {},
   "source": [
    "#### Question 6"
   ]
  },
  {
   "cell_type": "code",
   "execution_count": null,
   "metadata": {},
   "outputs": [],
   "source": [
    "# Accessing the element of the 5th row and 3rd column in 2d tensor y\n",
    "ele = y[4, 2]\n",
    "print(\"The element of the 5th row and 3rd column in 2d tensor y:\", ele.item())\n",
    "\n",
    "# Accessing the same element in the 3D tensor z\n",
    "ele_3d = z[1, 4, 2]\n",
    "print(\"Accessing the same element in the 3d tensor z, we have\", ele_3d.item())"
   ]
  },
  {
   "cell_type": "markdown",
   "metadata": {},
   "source": [
    "Hence, we were able to access the element of the $5^{th}$ row and $3^{rd}$ column in the $2D$ tensor $y$. <br>\n",
    "We were also able to access the same element from the $3D$ tensor $z$."
   ]
  },
  {
   "cell_type": "markdown",
   "metadata": {},
   "source": [
    "#### Question 7"
   ]
  },
  {
   "cell_type": "code",
   "execution_count": null,
   "metadata": {},
   "outputs": [],
   "source": [
    "# Print all elements corresponding to the 5th row and 3rd column in z\n",
    "eles = z[:, 4, 2]\n",
    "print(\"Printing all elements corresponding to the 5th row and 3rd column in z:\", eles)\n",
    "print(eles.shape)"
   ]
  },
  {
   "cell_type": "markdown",
   "metadata": {},
   "source": [
    "There are $2$ elements in $z$ that correspond to the $5^{th}$ row and $3^{rd}$ column of the tensor $z$. <br>\n",
    "This is beacause $z$ is the stacked tensor of $x$ and $y$. Hence, the $1^{st}$ returned element corresponds to the element at the $5^{th}$ row and $3^{rd}$ column of the tensor $x$, and the $2^{nd}$ returned element corresponds to the element at the $5^{th}$ row and $3^{rd}$ column of the tensor $y$."
   ]
  },
  {
   "cell_type": "code",
   "execution_count": null,
   "metadata": {},
   "outputs": [],
   "source": []
  }
 ],
 "metadata": {
  "kernelspec": {
   "display_name": "Python 3",
   "language": "python",
   "name": "python3"
  },
  "language_info": {
   "codemirror_mode": {
    "name": "ipython",
    "version": 3
   },
   "file_extension": ".py",
   "mimetype": "text/x-python",
   "name": "python",
   "nbconvert_exporter": "python",
   "pygments_lexer": "ipython3",
   "version": "3.7.3"
  }
 },
 "nbformat": 4,
 "nbformat_minor": 2
}
