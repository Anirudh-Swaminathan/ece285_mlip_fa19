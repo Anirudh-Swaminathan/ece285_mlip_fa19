{
 "cells": [
  {
   "cell_type": "markdown",
   "metadata": {},
   "source": [
    "# This Notebook Contains the code to complete Assignment 0"
   ]
  },
  {
   "cell_type": "markdown",
   "metadata": {},
   "source": [
    "## This notebook was created by Anirudh Swaminathan from the ECE department majoring in Intelligent Systems, Robotics and Control for the course ECE285 Machine Learning for Image Processing for Fall 2019"
   ]
  },
  {
   "cell_type": "markdown",
   "metadata": {},
   "source": [
    "### 2. Numpy"
   ]
  },
  {
   "cell_type": "markdown",
   "metadata": {},
   "source": [
    "#### 2.1 Arrays"
   ]
  },
  {
   "cell_type": "markdown",
   "metadata": {},
   "source": [
    "1. Question 1"
   ]
  },
  {
   "cell_type": "code",
   "execution_count": null,
   "metadata": {},
   "outputs": [],
   "source": [
    "import numpy as np\n",
    "\n",
    "a = np.array([1, 2, 3])\n",
    "print(type(a))\n",
    "print(a.shape)\n",
    "print(a[0], a[1], a[2])\n",
    "a[0] = 5"
   ]
  },
  {
   "cell_type": "markdown",
   "metadata": {},
   "source": [
    "The rank of $a$ is 1. <br>\n",
    "Shape of $a$ is $(3,)$. <br>\n",
    "Current values of $a[0]$, $a[1]$ and $a[2]$ are 5, 2 and 3 respectively."
   ]
  },
  {
   "cell_type": "markdown",
   "metadata": {},
   "source": [
    "2. Question 2"
   ]
  },
  {
   "cell_type": "code",
   "execution_count": null,
   "metadata": {},
   "outputs": [],
   "source": [
    "b = np.array([[1, 2, 3], [4, 5, 6]])"
   ]
  },
  {
   "cell_type": "code",
   "execution_count": null,
   "metadata": {},
   "outputs": [],
   "source": [
    "print(type(b))\n",
    "print(b.shape)\n",
    "print(b[0, 0], b[0, 1], b[1, 0])"
   ]
  },
  {
   "cell_type": "markdown",
   "metadata": {},
   "source": [
    "The rank of $b$ is 2. <br>\n",
    "Shape of $b$ is $(2, 3)$. <br>\n",
    "The current values of $b[0, 0]$, $b[0, 1]$, $b[1, 0]$ are 1, 2 and 4 respectively."
   ]
  },
  {
   "cell_type": "markdown",
   "metadata": {},
   "source": [
    "3. Question 3<br>The correct comments have now been assigned to each of the following lines of code"
   ]
  },
  {
   "cell_type": "code",
   "execution_count": null,
   "metadata": {},
   "outputs": [],
   "source": [
    "# an array of all zeros\n",
    "a = np.zeros((2, 2))\n",
    "\n",
    "# an array of all ones\n",
    "b = np.ones((1, 2))\n",
    "\n",
    "# a constant array\n",
    "c = np.full((2, 2), 7)\n",
    "\n",
    "# a 2*2 identity matrix\n",
    "d = np.eye(2)\n",
    "\n",
    "# an array filled with random values\n",
    "e = np.random.random((2, 2))"
   ]
  },
  {
   "cell_type": "markdown",
   "metadata": {},
   "source": [
    "Outputs of the given initializations of the 5 variables is given below\n",
    "This is to verify if all the comments have been correctly assigned to their respective lines of code"
   ]
  },
  {
   "cell_type": "code",
   "execution_count": null,
   "metadata": {},
   "outputs": [],
   "source": [
    "print(a)\n",
    "print(b)\n",
    "print(c)\n",
    "print(d)\n",
    "print(e)"
   ]
  },
  {
   "cell_type": "markdown",
   "metadata": {},
   "source": [
    "#### 2.2 Array indexing"
   ]
  },
  {
   "cell_type": "markdown",
   "metadata": {},
   "source": [
    "##### Slicing:"
   ]
  },
  {
   "cell_type": "markdown",
   "metadata": {},
   "source": [
    "4. Question 4"
   ]
  },
  {
   "cell_type": "code",
   "execution_count": null,
   "metadata": {},
   "outputs": [],
   "source": [
    "a = np.array([[1, 2, 3, 4], [5, 6, 7, 8], [9, 10, 11, 12]])\n",
    "b = a[:2, 1:3]\n",
    "\n",
    "# Shape of a is 3*4\n",
    "print(a.shape)\n",
    "\n",
    "# Shape of b is 2*2\n",
    "print(b.shape)\n",
    "print(b)"
   ]
  },
  {
   "cell_type": "markdown",
   "metadata": {},
   "source": [
    "Shape of $a$ is $(3, 4)$ <br>\n",
    "Shape of $b$ is $(2, 2)$ <br>\n",
    "The values in $b$ are $$\\begin{bmatrix}2 & 3 \\\\ 6 & 7 \\end{bmatrix}$$"
   ]
  },
  {
   "cell_type": "markdown",
   "metadata": {},
   "source": [
    "5. Question 5"
   ]
  },
  {
   "cell_type": "code",
   "execution_count": null,
   "metadata": {},
   "outputs": [],
   "source": [
    "print(a[0, 1])\n",
    "b[0, 0] = 77\n",
    "print(a[0, 1])"
   ]
  },
  {
   "cell_type": "markdown",
   "metadata": {},
   "source": [
    "The last line prints 77.<br>\n",
    "Yes! Modifying $b$ modifies the original array"
   ]
  },
  {
   "cell_type": "markdown",
   "metadata": {},
   "source": [
    "6. Question 6"
   ]
  },
  {
   "cell_type": "code",
   "execution_count": null,
   "metadata": {},
   "outputs": [],
   "source": [
    "a = np.array([[1, 2, 3, 4], [5, 6, 7, 8], [9, 10, 11, 12]])\n",
    "print(a, a.shape)\n",
    "\n",
    "# Rank 1 view of the second row of a\n",
    "row_r1 = a[1, :]\n",
    "\n",
    "# Rank 2 view of the second row of a\n",
    "row_r2 = a[1:2, :]\n",
    "\n",
    "print(row_r1, row_r1.shape)\n",
    "print(row_r2, row_r2.shape)\n",
    "\n",
    "col_r1 = a[:, 1]\n",
    "col_r2 = a[:, 1:2]\n",
    "\n",
    "# Code to print the values and shapes of columns col_r1 and col_r2\n",
    "print(col_r1, col_r1.shape)\n",
    "print(col_r2, col_r2.shape)"
   ]
  },
  {
   "cell_type": "markdown",
   "metadata": {},
   "source": [
    "$col\\_r1$ is a rank 1 view of the second columnn of $a$ <br>\n",
    "This is because we used integer indexing for specifying the column of interest<br>\n",
    "$col\\_r1$ is $$\\begin{bmatrix} 2 \\\\ 6 \\\\ 10 \\end{bmatrix}$$\n",
    "Shape of $col\\_r1$ is $(3, )$<br><br>\n",
    "$col\\_r2$ is a rank 2 view of the second column of $a$<br>\n",
    "This is because we used the slice indexing to specify the column(s) of interest<br>\n",
    "$col\\_r2$ is $$\\begin{bmatrix} \\begin{bmatrix} 2 \\end{bmatrix} \\\\ \\begin{bmatrix} 6 \\end{bmatrix} \\\\ \\begin{bmatrix} 10 \\end{bmatrix} \\end{bmatrix}$$\n",
    "Shape of $col\\_r2$ is $(3, 1)$"
   ]
  },
  {
   "cell_type": "markdown",
   "metadata": {},
   "source": [
    "##### Integer Array Indexing:"
   ]
  },
  {
   "cell_type": "markdown",
   "metadata": {},
   "source": [
    "7. Question 7"
   ]
  },
  {
   "cell_type": "code",
   "execution_count": null,
   "metadata": {},
   "outputs": [],
   "source": [
    "a = np.array([[1, 2], [3, 4], [5, 6]])\n",
    "print(a[[0, 1, 2], [0, 1, 0]])\n",
    "print(np.array([a[0, 0], a[1, 1], a[2, 0]]))"
   ]
  },
  {
   "cell_type": "markdown",
   "metadata": {},
   "source": [
    "The two printed arrays are equivalent<br>\n",
    "However, the first way is by specifying a list of indices for the first dimension, and the list of indices for the second dimension.\n",
    "So this first one is a subarray of the original array<br>\n",
    "The second way is by specifying each element from the array individually, and then creating a new numpy array using those elements\n",
    "This array is a new numpy object entirely."
   ]
  },
  {
   "cell_type": "markdown",
   "metadata": {},
   "source": [
    "8. Question 8"
   ]
  },
  {
   "cell_type": "code",
   "execution_count": null,
   "metadata": {},
   "outputs": [],
   "source": [
    "b = a[[0, 0], [1, 1]]\n",
    "c = np.array([a[0, 1], a[0, 1]])\n",
    "\n",
    "# printing b and c to compare the two ways of array indexing of a\n",
    "print(b, b.shape)\n",
    "print(c, c.shape)\n",
    "\n",
    "# check if changing b changes a\n",
    "print(a)\n",
    "b[0] = 3\n",
    "b[1] = 4\n",
    "print(b)\n",
    "print(a)\n",
    "\n",
    "# Check if changing c changes a\n",
    "c[0] = 10\n",
    "c[1] = 11\n",
    "print(c)\n",
    "print(a)"
   ]
  },
  {
   "cell_type": "code",
   "execution_count": null,
   "metadata": {},
   "outputs": [],
   "source": [
    "print(b == c)"
   ]
  },
  {
   "cell_type": "markdown",
   "metadata": {},
   "source": [
    "Both $b$ and $c$ have the same values.<br>\n",
    "Here, $b$ is is a subarray of $a$ which accesses the same element $(0, 1)$ twice.<br>\n",
    "$c$ is a new numpy array that is initialized with the elements of $a$<br>\n",
    "\n",
    "In both cases of initialization, changing the values of $b$ and $c$ do not change the value of $a$"
   ]
  },
  {
   "cell_type": "markdown",
   "metadata": {},
   "source": [
    "9. Question 9"
   ]
  },
  {
   "cell_type": "code",
   "execution_count": null,
   "metadata": {},
   "outputs": [],
   "source": [
    "a = np.array([[1, 2, 3], [4, 5, 6], [7, 8, 9], [10, 11, 12]])\n",
    "b = np.array([0, 2, 0 ,1])\n",
    "print(a[np.arange(4), b])\n",
    "a[np.arange(4), b] += 10\n",
    "print(a)"
   ]
  },
  {
   "cell_type": "markdown",
   "metadata": {},
   "source": [
    "We observe that the numpy array $b$ can be used to index and access elements of array $a$<br>\n",
    "Also, the elements of the array that are indexed by the numpy array $b$ and also by the $\\textit{arange}$ function for the rows is easily modified by assignment to a new value<br>\n",
    "We now find that the following elements of the array $a$ were displayed:<br>\n",
    "$a[0, 0]$, $a[1, 2]$, $a[2, 0]$ and $a[3, 1]$ and they were $1$, $6$, $7$ and $11$ respectively<br>\n",
    "Once modified, the array elements $a[0, 0]$, $a[1, 2]$, $a[2, 0]$ and $a[3, 1]$ are $11$, $16$, $17$ and $21$ respectively"
   ]
  },
  {
   "cell_type": "markdown",
   "metadata": {},
   "source": [
    "##### Boolean Array Indexing:"
   ]
  },
  {
   "cell_type": "markdown",
   "metadata": {},
   "source": [
    "10. Question 10"
   ]
  },
  {
   "cell_type": "code",
   "execution_count": null,
   "metadata": {},
   "outputs": [],
   "source": [
    "a = np.array([[1, 2], [3, 4], [5, 6]])\n",
    "bool_idx = (a > 2)\n",
    "\n",
    "print(bool_idx)"
   ]
  },
  {
   "cell_type": "markdown",
   "metadata": {},
   "source": [
    "The result stored in $bool\\_idx$ is $$\\begin{bmatrix} \\begin{bmatrix} False & False \\end{bmatrix} \\\\ \\begin{bmatrix} True & True \\end{bmatrix} \\\\ \\begin{bmatrix} True & True \\end{bmatrix} \\end{bmatrix}$$\n",
    "$bool\\_idx$ is a numpy array of the same dimension as $a$ and it stores $True$ or $False$ at each index $(i, j)$ based on whether $a[i, j]$ satisfies the given condition<br>"
   ]
  },
  {
   "cell_type": "code",
   "execution_count": null,
   "metadata": {},
   "outputs": [],
   "source": [
    "print(a[bool_idx], a[bool_idx].shape)\n",
    "print(a[a > 2], a[a>2].shape)"
   ]
  },
  {
   "cell_type": "markdown",
   "metadata": {},
   "source": [
    "The output of both the commands is the same<br>\n",
    "They both output only those elements of $a$ at those indices where the element satisfies the given boolean condition<br>\n",
    "The output is $$\\begin{bmatrix} 3 & 4 & 5 & 6 \\end{bmatrix}$$\n",
    "The output is a matrix of rank 1, and the shape is $(4,)$"
   ]
  },
  {
   "cell_type": "markdown",
   "metadata": {},
   "source": [
    "#### 2.3 Datatypes"
   ]
  },
  {
   "cell_type": "markdown",
   "metadata": {},
   "source": [
    "11. Question 11"
   ]
  },
  {
   "cell_type": "code",
   "execution_count": null,
   "metadata": {},
   "outputs": [],
   "source": [
    "# Let numpy choose the datatype\n",
    "x = np.array([1, 2])\n",
    "print(x.dtype)\n",
    "\n",
    "# Let numpy choose the datatype\n",
    "y = np.array([1.0, 2.0])\n",
    "print(y.dtype)\n",
    "\n",
    "# Force a particular datatype\n",
    "z = np.array([1, 2], dtype=np.int32)\n",
    "print(z.dtype)"
   ]
  },
  {
   "cell_type": "markdown",
   "metadata": {},
   "source": [
    "The datatype of $x$ is $int64$<br>\n",
    "The datatype of $y$ is $float64$<br>\n",
    "The datatype of $z$ is $int32$"
   ]
  },
  {
   "cell_type": "markdown",
   "metadata": {},
   "source": [
    "#### 2.4 Array Math"
   ]
  },
  {
   "cell_type": "markdown",
   "metadata": {},
   "source": [
    "12. Question 12"
   ]
  },
  {
   "cell_type": "code",
   "execution_count": null,
   "metadata": {},
   "outputs": [],
   "source": [
    "x = np.array([[1, 2], [3, 4]], dtype=np.float64)\n",
    "y = np.array([[5, 6], [7, 8]], dtype=np.float64)\n",
    "\n",
    "# Elementwise sum; both produce the array\n",
    "print(x + y)\n",
    "print(np.add(x, y))\n",
    "\n",
    "# Elementwise difference; both produce the array\n",
    "print(x - y)\n",
    "print(np.subtract(x, y))\n",
    "\n",
    "# Elementwise product; both produce the array\n",
    "print(x * y)\n",
    "print(np.multiply(x, y))\n",
    "\n",
    "# Elementwise division; both produce the array\n",
    "print(x / y)\n",
    "print(np.divide(x, y))\n",
    "\n",
    "# Elementwise square root\n",
    "print(np.sqrt(x))\n",
    "\n",
    "## IMPORTANT!\n",
    "# .* is elementwise multiplication in MATLAB, but here, * is elementwise multiplication\n",
    "# np.dot() is a function that is used to find inner product, and vector and matrix multiplications"
   ]
  },
  {
   "cell_type": "markdown",
   "metadata": {},
   "source": [
    "The output of $x + y$ is $$\\begin{bmatrix} 6 & 8 \\\\ 10 & 12 \\end{bmatrix}$$\n",
    "The output of $x - y$ is $$\\begin{bmatrix} -4 & -4 \\\\ -4 & -4 \\end{bmatrix}$$\n",
    "The output of $x * y$ is $$\\begin{bmatrix} 5 & 12 \\\\ 21 & 32 \\end{bmatrix}$$\n",
    "The output of $x / y$ is $$\\begin{bmatrix} 0.2 & 0.33 \\\\ 0.42857143 & 0.5 \\end{bmatrix}$$\n",
    "The output of $\\sqrt{x}$ is $$\\begin{bmatrix} 1 & 1.41421356 \\\\ 1.7320581 & 2 \\end{bmatrix}$$"
   ]
  },
  {
   "cell_type": "markdown",
   "metadata": {},
   "source": [
    "13. Question 13"
   ]
  },
  {
   "cell_type": "code",
   "execution_count": null,
   "metadata": {},
   "outputs": [],
   "source": [
    "v = np.array([9, 10])\n",
    "w = np.array([11, 12])\n",
    "print(v.dot(w))\n",
    "print(np.dot(v, w))"
   ]
  },
  {
   "cell_type": "markdown",
   "metadata": {},
   "source": [
    "The last two instructions perform inner product between the two vectors $v$ and $w$"
   ]
  },
  {
   "cell_type": "markdown",
   "metadata": {},
   "source": [
    "14. Question 14"
   ]
  },
  {
   "cell_type": "code",
   "execution_count": null,
   "metadata": {},
   "outputs": [],
   "source": [
    "x = np.array([[1, 2], [3, 4]])\n",
    "print(x.dot(v))\n",
    "print(np.dot(x, v))"
   ]
  },
  {
   "cell_type": "markdown",
   "metadata": {},
   "source": [
    "The last two instrutions perform matrix vector multiplication between the matrix $x$ and the vector $v$"
   ]
  },
  {
   "cell_type": "markdown",
   "metadata": {},
   "source": [
    "15. Question 15"
   ]
  },
  {
   "cell_type": "code",
   "execution_count": null,
   "metadata": {},
   "outputs": [],
   "source": [
    "y = np.array([[5, 6, 7], [7, 8, 9]])\n",
    "\n",
    "# Compute the product of x with y\n",
    "print(x.dot(y))\n",
    "\n",
    "# We cannot do the following. The line below throws a ValueError\n",
    "# ValueError: shapes (2,3) and (2,2) not aligned: 3 (dim 1) != 2 (dim 0)\n",
    "# print(y.dot(x))"
   ]
  },
  {
   "cell_type": "markdown",
   "metadata": {},
   "source": [
    "The matrix product of $x$ and $y$, $x . y$ is $$\\begin{bmatrix} \\begin{bmatrix} 19 & 22 & 25 \\end{bmatrix} \\\\ \\begin{bmatrix} 43 & 50 & 57 \\end{bmatrix} \\end{bmatrix}$$\n",
    "The product $y . x$ cannot be computed.<br>\n",
    "The shape of $y$ is $(2, 3)$ and the shape of $x$ is $(2, 2)$.<br>\n",
    "Thus, the matrix multiplication between the matrix $y$ with shape $(2, 3)$ and $x$ with shape $(2, 2)$ is ill-defined.<br>\n",
    "Python also throws a $$\\textit{ValueError}$$ exception when the operation $$\\textit{y.dot(x)}$$ is executed"
   ]
  },
  {
   "cell_type": "code",
   "execution_count": null,
   "metadata": {},
   "outputs": [],
   "source": [
    "x = np.array([[1, 2], [3, 4]])\n",
    "\n",
    "# Compute the sum of all elements\n",
    "print(np.sum(x))\n",
    "\n",
    "# Compute the sum of each column\n",
    "print(np.sum(x, axis=0))\n",
    "\n",
    "# Compute the sum of each row\n",
    "print(np.sum(x, axis=1))"
   ]
  },
  {
   "cell_type": "markdown",
   "metadata": {},
   "source": [
    "16. Question 16"
   ]
  },
  {
   "cell_type": "code",
   "execution_count": null,
   "metadata": {},
   "outputs": [],
   "source": [
    "x = np.array([[1, 2, 3], [3, 4, 5]])\n",
    "print(x)\n",
    "print(x.T)"
   ]
  },
  {
   "cell_type": "code",
   "execution_count": null,
   "metadata": {},
   "outputs": [],
   "source": [
    "print(x.shape)\n",
    "print(x.T.shape)"
   ]
  },
  {
   "cell_type": "markdown",
   "metadata": {},
   "source": [
    "In the above snippet, $x$ is $$\\begin{bmatrix} \\begin{bmatrix} 1 & 2 & 3 \\end{bmatrix} \\\\ \\begin{bmatrix} 3 & 4 & 5 \\end{bmatrix} \\end{bmatrix}$$\n",
    "The shape of $x$ is $(2, 3)$<br>\n",
    "$x^T$ is $$\\begin{bmatrix} \\begin{bmatrix} 1 & 3 \\end{bmatrix} \\\\ \\begin{bmatrix} 2 & 4 \\end{bmatrix} \\\\ \\begin{bmatrix} 3 & 5 \\end{bmatrix} \\end{bmatrix}$$\n",
    "The shape of $x^T$ is $(3, 2)$<br>\n",
    "The code $\\textit{x.T}$ returns a transpose of the matrix $x$"
   ]
  },
  {
   "cell_type": "markdown",
   "metadata": {},
   "source": [
    "#### 2.5 Broadcasting"
   ]
  },
  {
   "cell_type": "markdown",
   "metadata": {},
   "source": [
    "17. Question 17"
   ]
  },
  {
   "cell_type": "code",
   "execution_count": null,
   "metadata": {},
   "outputs": [],
   "source": [
    "x = np.array([[1, 2, 3], [4, 5, 6], [7, 8, 9], [10, 11, 12]])\n",
    "v = np.array([1, 0, 1])\n",
    "\n",
    "# Create an array of 0's for the output as the same shape as of x\n",
    "y = np.zeros(x.shape)\n",
    "\n",
    "for i in range(x.shape[0]):\n",
    "    for j in range(x.shape[1]):\n",
    "        # Complete your implementation below\n",
    "        y[i, j] = x[i][j] + v[j]\n",
    "        \n",
    "print(x, x.shape)\n",
    "print(v, v.shape)\n",
    "print(y, y.shape)"
   ]
  },
  {
   "cell_type": "markdown",
   "metadata": {},
   "source": [
    "The above code computes the addition of vector $v$ to each row of the matrix $x$ using $for$ loops<br>\n",
    "Looping is slow, so other methods will be explored below"
   ]
  },
  {
   "cell_type": "markdown",
   "metadata": {},
   "source": [
    "18. Question 18"
   ]
  },
  {
   "cell_type": "code",
   "execution_count": null,
   "metadata": {},
   "outputs": [],
   "source": [
    "vv = np.tile(v, (4, 1))\n",
    "print(vv)"
   ]
  },
  {
   "cell_type": "markdown",
   "metadata": {},
   "source": [
    "The tile function above creates a $``tile''$ with each individual block being $v$<br>\n",
    "The size of the tile is $(4, 1)$, and $v$ is repeated $4$ times as a column vector"
   ]
  },
  {
   "cell_type": "code",
   "execution_count": null,
   "metadata": {},
   "outputs": [],
   "source": [
    "print(vv.shape)\n",
    "print(x.shape)\n",
    "\n",
    "y = x + vv\n",
    "print(y, y.shape)"
   ]
  },
  {
   "cell_type": "markdown",
   "metadata": {},
   "source": [
    "Thus, we have computed $y$ from $x$ and $vv$ through direct matrix addition without using any explicit loops"
   ]
  },
  {
   "cell_type": "markdown",
   "metadata": {},
   "source": [
    "19. Question 19"
   ]
  },
  {
   "cell_type": "code",
   "execution_count": null,
   "metadata": {},
   "outputs": [],
   "source": [
    "x = np.array([[1, 2, 3], [4, 5, 6], [7, 8, 9], [10, 11, 12]])\n",
    "v = np.array([1, 0, 1])\n",
    "\n",
    "# Add v to each row of x using broadcasting\n",
    "y = x + v\n",
    "\n",
    "print(x, x.shape)\n",
    "print(v, v.shape)\n",
    "print(y, y.shape)"
   ]
  },
  {
   "cell_type": "markdown",
   "metadata": {},
   "source": [
    "The above is an example of broadcasting.<br>\n",
    "It is as if $v$ had a shape of $(4, 3)$, with each row being identical to the original $v$ and the sum was performed elementwise."
   ]
  },
  {
   "cell_type": "markdown",
   "metadata": {},
   "source": [
    "###### Rules of Broadcasting\n",
    "\n",
    "Broadcasting 2 arrays follows these rules:\n",
    "- If the arrays do not have the same rank, prepend the shape of the lower rank array with 1s until both shapes have the same length.\n",
    "- The two arrays are said to be compatible in a dimension if they have the same size in the dimension, or if one of the arrays has size 1 in that dimension.\n",
    "- The arrays can be broadcast together if they are compatilble in all dimensions.\n",
    "- After broadcasting, each array behaves as if it had shape equal to the elementwise maximum of shapes of the two input arrays.\n",
    "- In any dimension where one array had size 1 and the other array had size greater than 1, the first array behaves as if it were copied along that dimension"
   ]
  },
  {
   "cell_type": "code",
   "execution_count": null,
   "metadata": {},
   "outputs": [],
   "source": [
    "# To compute the outer product of v and w\n",
    "# Outer product of vector of dimension m and vector of dimension n is m*n\n",
    "\n",
    "# v has shape (3, )\n",
    "v = np.array([1, 2, 3])\n",
    "print(v, v.shape)\n",
    "\n",
    "# w has shape(2, )\n",
    "w = np.array([4, 5])\n",
    "print(w, w.shape)\n",
    "\n",
    "# Outer product needs to have size 3*2. This is possible only if we treat v as column vector(3, 1)\n",
    "# and w as row vector(1, 2)\n",
    "v = v.reshape((3, 1))\n",
    "print(v, v.shape)\n",
    "\n",
    "outer_product = v*w\n",
    "print(outer_product, outer_product.shape)"
   ]
  },
  {
   "cell_type": "markdown",
   "metadata": {},
   "source": [
    "We have broadcast $v$ and $w$ to find their outer product<br>\n",
    "The broadcasting was achieved by reshaping $v$ to $(3, 1)$, a column vector<br>\n",
    "$v$ was then broadcast to $(3, 2)$<br>\n",
    "$w$ was taken to be $(1, 2)$ first by broadcasting with $(3, 1)$ vector, and then broadcast to $(3, 2)$\n",
    "The output of the multiplication is now just outer product<br><br>\n",
    "An alternative way to find outer-product would be to use the dot product between $v$ and $w$, but by treating $v$ as a column vector by reshaping to $(3, 1)$ and treating $w$ as a row vector of the same rank by reshaping to $(1, 2)$"
   ]
  },
  {
   "cell_type": "markdown",
   "metadata": {},
   "source": [
    "20. Question 20"
   ]
  },
  {
   "cell_type": "code",
   "execution_count": null,
   "metadata": {},
   "outputs": [],
   "source": [
    "x = np.array([[1, 2, 3], [4, 5, 6]])\n",
    "print(x, x.shape)\n",
    "print(v, v.shape)\n",
    "v = v.flatten()\n",
    "print(v, v.shape)\n",
    "ans = v + x\n",
    "print(ans, ans.shape)"
   ]
  },
  {
   "cell_type": "markdown",
   "metadata": {},
   "source": [
    "We were able to add $v$ to each row of $x$ by first converting $v$ to a rank 1 vector, and then the addition operation broadcast $v$ to match the dimensions of $x$"
   ]
  },
  {
   "cell_type": "markdown",
   "metadata": {},
   "source": [
    "21. Quesiton 21"
   ]
  },
  {
   "cell_type": "code",
   "execution_count": null,
   "metadata": {},
   "outputs": [],
   "source": [
    "print(w, w.shape)\n",
    "\n",
    "# Reshape w to a column vector for broadcasting with x\n",
    "w = w.reshape((2, 1))\n",
    "print(w.shape)\n",
    "a2 = w + x\n",
    "print(a2, a2.shape)"
   ]
  },
  {
   "cell_type": "markdown",
   "metadata": {},
   "source": [
    "We were able to add $w$ to each column of $x$ by first converting $w$ to a column vector and then the addition operation broadcast $w$ to match the dimensions of $x$"
   ]
  },
  {
   "cell_type": "markdown",
   "metadata": {},
   "source": [
    "22. Question 22"
   ]
  },
  {
   "cell_type": "code",
   "execution_count": null,
   "metadata": {},
   "outputs": [],
   "source": [
    "a3 = 2 * x\n",
    "print(a3, a3.shape)"
   ]
  },
  {
   "cell_type": "markdown",
   "metadata": {},
   "source": [
    "Here, the scalar $2$ with shape $()$ was broadcast by the * operation to the shape of the rank 2 variable $x$ and then the multiplication was carried out"
   ]
  },
  {
   "cell_type": "markdown",
   "metadata": {},
   "source": [
    "### 3. Matplotlib"
   ]
  },
  {
   "cell_type": "markdown",
   "metadata": {},
   "source": [
    "#### 3.1 Plotting"
   ]
  },
  {
   "cell_type": "markdown",
   "metadata": {},
   "source": [
    "23. Question 23"
   ]
  },
  {
   "cell_type": "code",
   "execution_count": null,
   "metadata": {},
   "outputs": [],
   "source": [
    "%matplotlib inline\n",
    "\n",
    "import numpy as np\n",
    "import matplotlib.pyplot as plt\n",
    "\n",
    "# Compute the x and y coordinates for points on a sine curve\n",
    "x = np.arange(0, 3*np.pi, 0.1)\n",
    "y = np.sin(x)\n",
    "\n",
    "# Plot the points using matplotlib\n",
    "plt.plot(x, y)\n",
    "\n",
    "# this line must be written to make the graphics appear\n",
    "plt.show()"
   ]
  },
  {
   "cell_type": "markdown",
   "metadata": {},
   "source": [
    "24. Question 24"
   ]
  },
  {
   "cell_type": "code",
   "execution_count": null,
   "metadata": {},
   "outputs": [],
   "source": [
    "# Adding extra instructions before plt.show()\n",
    "plt.plot(x, y)\n",
    "\n",
    "# set the xlimit as 3*pi\n",
    "plt.xlim(0, 3 * np.pi)\n",
    "\n",
    "# set the label for the x-axis of the plot\n",
    "plt.xlabel('x')\n",
    "\n",
    "# set the label for the y-axis of the plot\n",
    "plt.ylabel('y')\n",
    "\n",
    "# Set the title of the plot\n",
    "plt.title('Sinusoidal curve(s)')\n",
    "\n",
    "# Set the legend for each curve in the plot\n",
    "# here, we have only 1 curve, so only 1 entry in the list given as a parameter to the plt.legend() function\n",
    "plt.legend(['Sine'])\n",
    "\n",
    "# this line must be written to make the graphics appear\n",
    "plt.show()"
   ]
  },
  {
   "cell_type": "markdown",
   "metadata": {},
   "source": [
    "Each of the above instructions are interpreted as follows:\n",
    " - plt.xlim() sets the limits of the x-axis of the plot from 0 to 3$\\pi$\n",
    " - plt.xlabel() sets the label for the x-axis of the plot\n",
    " - plt.ylabel() sets the label for the y-axis of the plot\n",
    " - plt.title() sets the title of the plot\n",
    " - plt.legend() sets the legend for each curve in the plot. Here, we have only 1 curve, so only 1 entry in the list given as a parameter to the plt.legend() function\n",
    " - plt.show() is required to make the graphics appear"
   ]
  },
  {
   "cell_type": "markdown",
   "metadata": {},
   "source": [
    "25. Quesiton 25"
   ]
  },
  {
   "cell_type": "code",
   "execution_count": null,
   "metadata": {},
   "outputs": [],
   "source": [
    "# Plotting sine and cosine curves in the same figure\n",
    "x = np.arange(0, 3*np.pi, 0.1)\n",
    "y1 = np.sin(x)\n",
    "y2 = np.cos(x)\n",
    "\n",
    "plt.plot(x, y1, x, y2, 'r')\n",
    "\n",
    "# set the xlimit as 3*pi\n",
    "plt.xlim(0, 3 * np.pi)\n",
    "\n",
    "# set the label for the x-axis of the plot\n",
    "plt.xlabel('x')\n",
    "\n",
    "# set the label for the y-axis of the plot\n",
    "plt.ylabel('y')\n",
    "\n",
    "# Set the title of the plot\n",
    "plt.title('Sinusoidal curve(s)')\n",
    "\n",
    "# Set the legend for each curve in the plot\n",
    "# here, we have only 1 curve, so only 1 entry in the list given as a parameter to the plt.legend() function\n",
    "plt.legend(['Sine', 'Cos'])\n",
    "\n",
    "# this line must be written to make the graphics appear\n",
    "plt.show()"
   ]
  },
  {
   "cell_type": "markdown",
   "metadata": {},
   "source": [
    "#### 3.2 Subplots"
   ]
  },
  {
   "cell_type": "markdown",
   "metadata": {},
   "source": [
    "26. Question 26"
   ]
  },
  {
   "cell_type": "code",
   "execution_count": null,
   "metadata": {},
   "outputs": [],
   "source": [
    "x = np.arange(0, 3*np.pi, 0.1)\n",
    "y_sin = np.sin(x)\n",
    "\n",
    "fig, axes = plt.subplots(nrows=2)\n",
    "axes[0].plot(x, y_sin)\n",
    "axes[0].set_xlim(0, 3*np.pi)\n",
    "axes[0].set_title('Sine')\n",
    "\n",
    "y_cos = np.cos(x)\n",
    "axes[1].plot(x, y_cos)\n",
    "axes[1].set_xlim(0, 3*np.pi)\n",
    "axes[1].set_title('Cosine')\n",
    "\n",
    "plt.tight_layout()"
   ]
  },
  {
   "cell_type": "markdown",
   "metadata": {},
   "source": [
    "#### 3.3 Images"
   ]
  },
  {
   "cell_type": "markdown",
   "metadata": {},
   "source": [
    "27. Question 27"
   ]
  },
  {
   "cell_type": "markdown",
   "metadata": {},
   "source": [
    "Created an assets directory and transferred the cat.jpg image to that folder"
   ]
  },
  {
   "cell_type": "markdown",
   "metadata": {},
   "source": [
    "28. Question 28"
   ]
  },
  {
   "cell_type": "code",
   "execution_count": null,
   "metadata": {},
   "outputs": [],
   "source": [
    "import numpy as np\n",
    "import imageio\n",
    "import matplotlib.pyplot as plt\n",
    "\n",
    "# Read the image using imageio package\n",
    "img = imageio.imread('assets/cat.jpg')\n",
    "# print(img.shape)\n",
    "\n",
    "# Tint the image\n",
    "# This line keeps the original intensities of the first channel, darkens the second channel by 5%,\n",
    "# and darkens the 3rd channel by 10%\n",
    "img_tinted = img * [1, 0.85, 0.7]\n",
    "\n",
    "# Show the original image. Note that img has type uint8. In this case, imshow expects\n",
    "# black to be [0, 0, 0] and white to be [255, 255, 255]\n",
    "fig, axes = plt.subplots(ncols=4, figsize=(12, 4))\n",
    "axes[0].imshow(img)\n",
    "\n",
    "# Show the tinted image. Note that tinted_img has type float64.\n",
    "# Now, imshow expects black to be [0, 0, 0] and white to be [1, 1, 1]\n",
    "# Compare and interpret the 3 following solutions\n",
    "axes[1].imshow(img_tinted)\n",
    "axes[2].imshow(np.uint8(img_tinted))\n",
    "axes[3].imshow(img_tinted / 255)\n",
    "\n",
    "print(\"Orig Image: \", img.dtype, np.amax(img))\n",
    "print(\"Tint Image: \", img_tinted.dtype, np.amax(img_tinted))\n",
    "int_img = np.uint8(img_tinted)\n",
    "print(\"Int Image: \", int_img.dtype, np.amax(int_img))\n",
    "div_img = img_tinted / 255\n",
    "print(\"Div Image: \", div_img.dtype, np.amax(div_img))"
   ]
  },
  {
   "cell_type": "markdown",
   "metadata": {},
   "source": [
    "The original image is of type $uint8$ with a maximum value of 255<br>\n",
    "This is displayed correctly by $axes[0].imshow()$ function as the expected maximum value is $255$<br>\n",
    "The tinted image is created by keeping the original intensities of the first channel, darkening the second channel by $5\\%$, and darkening the $3^{rd}$ channel by $10\\%$<br>\n",
    "The tinted image thus ends up with type $float64$ with a maximum value of $255.0$<br>\n",
    "Since $imshow()$ expects a $float64$ value to be capped at $1.0$, it automatically clips the input data to the valid range for $imshow()$ with RGB data, which happens to be $[0..1]$<br>\n",
    "Hence, every value ends up being almost $1$ thus giving rise to a white image<br>\n",
    "The third method of displaying the image converts the image to $uint8$, and thus rounds off the values to nearest integers, leading to some loss of information<br>\n",
    "The final method of displaying the image divides the $float64$ values by $255$, thus scaling down the values from $[0..255]$ to $[0..1]$ and still keeping the information intact<br><br>\n",
    "Thus, after numerous image operations, it is best to scale down to the correct limits with division by $255$ to minimize the loss of information, rather than to leave unscaled, thus making the image display as majorly white or to convert its type to $uint8$ as $imshow()$ accepts only $[0..1]$ for images having datatype as $float64$, leading to some loss of information due to the rounding off to the nearest integer."
   ]
  }
 ],
 "metadata": {
  "kernelspec": {
   "display_name": "Python 3",
   "language": "python",
   "name": "python3"
  },
  "language_info": {
   "codemirror_mode": {
    "name": "ipython",
    "version": 3
   },
   "file_extension": ".py",
   "mimetype": "text/x-python",
   "name": "python",
   "nbconvert_exporter": "python",
   "pygments_lexer": "ipython3",
   "version": "3.7.3"
  }
 },
 "nbformat": 4,
 "nbformat_minor": 2
}
