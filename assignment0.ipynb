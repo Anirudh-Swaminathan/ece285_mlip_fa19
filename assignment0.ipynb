{
 "cells": [
  {
   "cell_type": "markdown",
   "metadata": {},
   "source": [
    "# This Notebook Contains the code to complete Assignment 0"
   ]
  },
  {
   "cell_type": "markdown",
   "metadata": {},
   "source": [
    "## This notebook was created by Anirudh Swaminathan from the ECE department majoring in Intelligent Systems, Robotics and Control for the course ECE285 Machine Learning for Image Processing for Fall 2019"
   ]
  },
  {
   "cell_type": "markdown",
   "metadata": {},
   "source": [
    "### 2. Numpy"
   ]
  },
  {
   "cell_type": "markdown",
   "metadata": {},
   "source": [
    "#### 2.1 Arrays"
   ]
  },
  {
   "cell_type": "markdown",
   "metadata": {},
   "source": [
    "1. Question 1"
   ]
  },
  {
   "cell_type": "code",
   "execution_count": null,
   "metadata": {},
   "outputs": [],
   "source": [
    "import numpy as np\n",
    "\n",
    "a = np.array([1, 2, 3])\n",
    "print(type(a))\n",
    "print(a.shape)\n",
    "print(a[0], a[1], a[2])\n",
    "a[0] = 5"
   ]
  },
  {
   "cell_type": "markdown",
   "metadata": {},
   "source": [
    "The rank of $a$ is 1. <br>\n",
    "Shape of $a$ is $(3,)$. <br>\n",
    "Current values of $a[0]$, $a[1]$ and $a[2]$ are 5, 2 and 3 respectively."
   ]
  },
  {
   "cell_type": "markdown",
   "metadata": {},
   "source": [
    "2. Question 2"
   ]
  },
  {
   "cell_type": "code",
   "execution_count": null,
   "metadata": {},
   "outputs": [],
   "source": [
    "b = np.array([[1, 2, 3], [4, 5, 6]])"
   ]
  },
  {
   "cell_type": "code",
   "execution_count": null,
   "metadata": {},
   "outputs": [],
   "source": [
    "print(type(b))\n",
    "print(b.shape)\n",
    "print(b[0, 0], b[0, 1], b[1, 0])"
   ]
  },
  {
   "cell_type": "markdown",
   "metadata": {},
   "source": [
    "The rank of $b$ is 2. <br>\n",
    "Shape of $b$ is $(2, 3)$. <br>\n",
    "The current values of $b[0, 0]$, $b[0, 1]$, $b[1, 0]$ are 1, 2 and 4 respectively."
   ]
  },
  {
   "cell_type": "markdown",
   "metadata": {},
   "source": [
    "3. Question 3<br>The correct comments have now been assigned to each of the following lines of code"
   ]
  },
  {
   "cell_type": "code",
   "execution_count": null,
   "metadata": {},
   "outputs": [],
   "source": [
    "# an array of all zeros\n",
    "a = np.zeros((2, 2))\n",
    "\n",
    "# an array of all ones\n",
    "b = np.ones((1, 2))\n",
    "\n",
    "# a constant array\n",
    "c = np.full((2, 2), 7)\n",
    "\n",
    "# a 2*2 identity matrix\n",
    "d = np.eye(2)\n",
    "\n",
    "# an array filled with random values\n",
    "e = np.random.random((2, 2))"
   ]
  },
  {
   "cell_type": "markdown",
   "metadata": {},
   "source": [
    "Outputs of the given initializations of the 5 variables is given below\n",
    "This is to verify if all the comments have been correctly assigned to their respective lines of code"
   ]
  },
  {
   "cell_type": "code",
   "execution_count": null,
   "metadata": {},
   "outputs": [],
   "source": [
    "print(a)\n",
    "print(b)\n",
    "print(c)\n",
    "print(d)\n",
    "print(e)"
   ]
  },
  {
   "cell_type": "markdown",
   "metadata": {},
   "source": [
    "#### 2.2 Array indexing"
   ]
  },
  {
   "cell_type": "markdown",
   "metadata": {},
   "source": [
    "##### Slicing:"
   ]
  },
  {
   "cell_type": "markdown",
   "metadata": {},
   "source": [
    "4. Question 4"
   ]
  },
  {
   "cell_type": "code",
   "execution_count": null,
   "metadata": {},
   "outputs": [],
   "source": [
    "a = np.array([[1, 2, 3, 4], [5, 6, 7, 8], [9, 10, 11, 12]])\n",
    "b = a[:2, 1:3]\n",
    "\n",
    "# Shape of a is 3*4\n",
    "print(a.shape)\n",
    "\n",
    "# Shape of b is 2*2\n",
    "print(b.shape)\n",
    "print(b)"
   ]
  },
  {
   "cell_type": "markdown",
   "metadata": {},
   "source": [
    "Shape of $a$ is $(3, 4)$ <br>\n",
    "Shape of $b$ is $(2, 2)$ <br>\n",
    "The values in $b$ are $$\\begin{bmatrix}2 & 3 \\\\ 6 & 7 \\end{bmatrix}$$"
   ]
  },
  {
   "cell_type": "markdown",
   "metadata": {},
   "source": [
    "5. Question 5"
   ]
  },
  {
   "cell_type": "code",
   "execution_count": null,
   "metadata": {},
   "outputs": [],
   "source": [
    "print(a[0, 1])\n",
    "b[0, 0] = 77\n",
    "print(a[0, 1])"
   ]
  },
  {
   "cell_type": "markdown",
   "metadata": {},
   "source": [
    "The last line prints 77.<br>\n",
    "Yes! Modifying $b$ modifies the original array"
   ]
  },
  {
   "cell_type": "markdown",
   "metadata": {},
   "source": [
    "6. Question 6"
   ]
  },
  {
   "cell_type": "code",
   "execution_count": null,
   "metadata": {},
   "outputs": [],
   "source": [
    "a = np.array([[1, 2, 3, 4], [5, 6, 7, 8], [9, 10, 11, 12]])\n",
    "print(a, a.shape)\n",
    "\n",
    "# Rank 1 view of the second row of a\n",
    "row_r1 = a[1, :]\n",
    "\n",
    "# Rank 2 view of the second row of a\n",
    "row_r2 = a[1:2, :]\n",
    "\n",
    "print(row_r1, row_r1.shape)\n",
    "print(row_r2, row_r2.shape)\n",
    "\n",
    "col_r1 = a[:, 1]\n",
    "col_r2 = a[:, 1:2]\n",
    "\n",
    "# Code to print the values and shapes of columns col_r1 and col_r2\n",
    "print(col_r1, col_r1.shape)\n",
    "print(col_r2, col_r2.shape)"
   ]
  },
  {
   "cell_type": "markdown",
   "metadata": {},
   "source": [
    "$col\\_r1$ is a rank 1 view of the second columnn of $a$ <br>\n",
    "This is because we used integer indexing for specifying the column of interest<br>\n",
    "$col\\_r1$ is $$\\begin{bmatrix} 2 \\\\ 6 \\\\ 10 \\end{bmatrix}$$\n",
    "Shape of $col\\_r1$ is $(3, )$<br><br>\n",
    "$col\\_r2$ is a rank 2 view of the second column of $a$<br>\n",
    "This is because we used the slice indexing to specify the column(s) of interest<br>\n",
    "$col\\_r2$ is $$\\begin{bmatrix} \\begin{bmatrix} 2 \\end{bmatrix} \\\\ \\begin{bmatrix} 6 \\end{bmatrix} \\\\ \\begin{bmatrix} 10 \\end{bmatrix} \\end{bmatrix}$$\n",
    "Shape of $col\\_r2$ is $(3, 1)$"
   ]
  },
  {
   "cell_type": "markdown",
   "metadata": {},
   "source": [
    "##### Integer Array Indexing:"
   ]
  },
  {
   "cell_type": "markdown",
   "metadata": {},
   "source": [
    "7. Question 7"
   ]
  },
  {
   "cell_type": "code",
   "execution_count": null,
   "metadata": {},
   "outputs": [],
   "source": [
    "a = np.array([[1, 2], [3, 4], [5, 6]])\n",
    "print(a[[0, 1, 2], [0, 1, 0]])\n",
    "print(np.array([a[0, 0], a[1, 1], a[2, 0]]))"
   ]
  },
  {
   "cell_type": "markdown",
   "metadata": {},
   "source": [
    "The two printed arrays are equivalent<br>\n",
    "However, the first way is by specifying a list of indices for the first dimension, and the list of indices for the second dimension.\n",
    "So this first one is a subarray of the original array<br>\n",
    "The second way is by specifying each element from the array individually, and then creating a new numpy array using those elements\n",
    "This array is a new numpy object entirely."
   ]
  },
  {
   "cell_type": "markdown",
   "metadata": {},
   "source": [
    "8. Question 8"
   ]
  },
  {
   "cell_type": "code",
   "execution_count": null,
   "metadata": {},
   "outputs": [],
   "source": [
    "b = a[[0, 0], [1, 1]]\n",
    "c = np.array([a[0, 1], a[0, 1]])\n",
    "\n",
    "# printing b and c to compare the two ways of array indexing of a\n",
    "print(b, b.shape)\n",
    "print(c, c.shape)\n",
    "\n",
    "# check if changing b changes a\n",
    "print(a)\n",
    "b[0] = 3\n",
    "b[1] = 4\n",
    "print(b)\n",
    "print(a)\n",
    "\n",
    "# Check if changing c changes a\n",
    "c[0] = 10\n",
    "c[1] = 11\n",
    "print(c)\n",
    "print(a)"
   ]
  },
  {
   "cell_type": "code",
   "execution_count": null,
   "metadata": {},
   "outputs": [],
   "source": [
    "print(b == c)"
   ]
  },
  {
   "cell_type": "markdown",
   "metadata": {},
   "source": [
    "Both $b$ and $c$ have the same values.<br>\n",
    "Here, $b$ is is a subarray of $a$ which accesses the same element $(0, 1)$ twice.<br>\n",
    "$c$ is a new numpy array that is initialized with the elements of $a$<br>\n",
    "\n",
    "In both cases of initialization, changing the values of $b$ and $c$ do not change the value of $a$"
   ]
  },
  {
   "cell_type": "markdown",
   "metadata": {},
   "source": [
    "9. Question 9"
   ]
  },
  {
   "cell_type": "code",
   "execution_count": null,
   "metadata": {},
   "outputs": [],
   "source": [
    "a = np.array([[1, 2, 3], [4, 5, 6], [7, 8, 9], [10, 11, 12]])\n",
    "b = np.array([0, 2, 0 ,1])\n",
    "print(a[np.arange(4), b])\n",
    "a[np.arange(4), b] += 10\n",
    "print(a)"
   ]
  },
  {
   "cell_type": "markdown",
   "metadata": {},
   "source": [
    "We observe that the numpy array $b$ can be used to index and access elements of array $a$<br>\n",
    "Also, the elements of the array that are indexed by the numpy array $b$ and also by the $\\textit{arange}$ function for the rows is easily modified by assignment to a new value<br>\n",
    "We now find that the following elements of the array $a$ were displayed:<br>\n",
    "$a[0, 0]$, $a[1, 2]$, $a[2, 0]$ and $a[3, 1]$ and they were $1$, $6$, $7$ and $11$ respectively<br>\n",
    "Once modified, the array elements $a[0, 0]$, $a[1, 2]$, $a[2, 0]$ and $a[3, 1]$ are $11$, $16$, $17$ and $21$ respectively"
   ]
  },
  {
   "cell_type": "markdown",
   "metadata": {},
   "source": [
    "##### Boolean Array Indexing:"
   ]
  },
  {
   "cell_type": "markdown",
   "metadata": {},
   "source": [
    "10. Question 10"
   ]
  },
  {
   "cell_type": "code",
   "execution_count": null,
   "metadata": {},
   "outputs": [],
   "source": [
    "a = np.array([[1, 2], [3, 4], [5, 6]])\n",
    "bool_idx = (a > 2)\n",
    "\n",
    "print(bool_idx)"
   ]
  },
  {
   "cell_type": "markdown",
   "metadata": {},
   "source": [
    "The result stored in $bool\\_idx$ is $$\\begin{bmatrix} \\begin{bmatrix} False & False \\end{bmatrix} \\\\ \\begin{bmatrix} True & True \\end{bmatrix} \\\\ \\begin{bmatrix} True & True \\end{bmatrix} \\end{bmatrix}$$\n",
    "$bool\\_idx$ is a numpy array of the same dimension as $a$ and it stores $True$ or $False$ at each index $(i, j)$ based on whether $a[i, j]$ satisfies the given condition<br>"
   ]
  },
  {
   "cell_type": "code",
   "execution_count": null,
   "metadata": {},
   "outputs": [],
   "source": [
    "print(a[bool_idx], a[bool_idx].shape)\n",
    "print(a[a > 2], a[a>2].shape)"
   ]
  },
  {
   "cell_type": "markdown",
   "metadata": {},
   "source": [
    "The output of both the commands is the same<br>\n",
    "They both output only those elements of $a$ at those indices where the element satisfies the given boolean condition<br>\n",
    "The output is $$\\begin{bmatrix} 3 & 4 & 5 & 6 \\end{bmatrix}$$\n",
    "The output is a matrix of rank 1, and the shape is $(4,)$"
   ]
  },
  {
   "cell_type": "markdown",
   "metadata": {},
   "source": [
    "#### 2.3 Datatypes"
   ]
  },
  {
   "cell_type": "markdown",
   "metadata": {},
   "source": [
    "11. Question 11"
   ]
  },
  {
   "cell_type": "code",
   "execution_count": null,
   "metadata": {},
   "outputs": [],
   "source": [
    "# Let numpy choose the datatype\n",
    "x = np.array([1, 2])\n",
    "print(x.dtype)\n",
    "\n",
    "# Let numpy choose the datatype\n",
    "y = np.array([1.0, 2.0])\n",
    "print(y.dtype)\n",
    "\n",
    "# Force a particular datatype\n",
    "z = np.array([1, 2], dtype=np.int32)\n",
    "print(z.dtype)"
   ]
  },
  {
   "cell_type": "markdown",
   "metadata": {},
   "source": [
    "The datatype of $x$ is $int64$<br>\n",
    "The datatype of $y$ is $float64$<br>\n",
    "The datatype of $z$ is $int32$"
   ]
  },
  {
   "cell_type": "markdown",
   "metadata": {},
   "source": [
    "#### 2.4 Array Math"
   ]
  },
  {
   "cell_type": "markdown",
   "metadata": {},
   "source": [
    "12. Question 12"
   ]
  },
  {
   "cell_type": "code",
   "execution_count": null,
   "metadata": {},
   "outputs": [],
   "source": [
    "x = np.array([[1, 2], [3, 4]], dtype=np.float64)\n",
    "y = np.array([[5, 6], [7, 8]], dtype=np.float64)\n",
    "\n",
    "# Elementwise sum; both produce the array\n",
    "print(x + y)\n",
    "print(np.add(x, y))\n",
    "\n",
    "# Elementwise difference; both produce the array\n",
    "print(x - y)\n",
    "print(np.subtract(x, y))\n",
    "\n",
    "# Elementwise product; both produce the array\n",
    "print(x * y)\n",
    "print(np.multiply(x, y))\n",
    "\n",
    "# Elementwise division; both produce the array\n",
    "print(x / y)\n",
    "print(np.divide(x, y))\n",
    "\n",
    "# Elementwise square root\n",
    "print(np.sqrt(x))\n",
    "\n",
    "## IMPORTANT!\n",
    "# .* is elementwise multiplication in MATLAB, but here, * is elementwise multiplication\n",
    "# np.dot() is a function that is used to find inner product, and vector and matrix multiplications"
   ]
  },
  {
   "cell_type": "markdown",
   "metadata": {},
   "source": [
    "The output of $x + y$ is $$\\begin{bmatrix} 6 & 8 \\\\ 10 & 12 \\end{bmatrix}$$\n",
    "The output of $x - y$ is $$\\begin{bmatrix} -4 & -4 \\\\ -4 & -4 \\end{bmatrix}$$\n",
    "The output of $x * y$ is $$\\begin{bmatrix} 5 & 12 \\\\ 21 & 32 \\end{bmatrix}$$\n",
    "The output of $x / y$ is $$\\begin{bmatrix} 0.2 & 0.33 \\\\ 0.42857143 & 0.5 \\end{bmatrix}$$\n",
    "The output of $\\sqrt{x}$ is $$\\begin{bmatrix} 1 & 1.41421356 \\\\ 1.7320581 & 2 \\end{bmatrix}$$"
   ]
  },
  {
   "cell_type": "markdown",
   "metadata": {},
   "source": [
    "13. Question 13"
   ]
  },
  {
   "cell_type": "code",
   "execution_count": null,
   "metadata": {},
   "outputs": [],
   "source": [
    "v = np.array([9, 10])\n",
    "w = np.array([11, 12])\n",
    "print(v.dot(w))\n",
    "print(np.dot(v, w))"
   ]
  },
  {
   "cell_type": "markdown",
   "metadata": {},
   "source": [
    "The last two instructions perform inner product between the two vectors $v$ and $w$"
   ]
  },
  {
   "cell_type": "markdown",
   "metadata": {},
   "source": [
    "14. Question 14"
   ]
  },
  {
   "cell_type": "code",
   "execution_count": null,
   "metadata": {},
   "outputs": [],
   "source": [
    "x = np.array([[1, 2], [3, 4]])\n",
    "print(x.dot(v))\n",
    "print(np.dot(x, v))"
   ]
  },
  {
   "cell_type": "markdown",
   "metadata": {},
   "source": [
    "The last two instrutions perform matrix vector multiplication between the matrix $x$ and the vector $v$"
   ]
  },
  {
   "cell_type": "markdown",
   "metadata": {},
   "source": [
    "15. Question 15"
   ]
  },
  {
   "cell_type": "code",
   "execution_count": null,
   "metadata": {},
   "outputs": [],
   "source": [
    "y = np.array([[5, 6, 7], [7, 8, 9]])\n",
    "\n",
    "# Compute the product of x with y\n",
    "print(x.dot(y))\n",
    "\n",
    "# We cannot do the following. The line below throws a ValueError\n",
    "# ValueError: shapes (2,3) and (2,2) not aligned: 3 (dim 1) != 2 (dim 0)\n",
    "# print(y.dot(x))"
   ]
  },
  {
   "cell_type": "markdown",
   "metadata": {},
   "source": [
    "The matrix product of $x$ and $y$, $x . y$ is $$\\begin{bmatrix} \\begin{bmatrix} 19 & 22 & 25 \\end{bmatrix} \\\\ \\begin{bmatrix} 43 & 50 & 57 \\end{bmatrix} \\end{bmatrix}$$\n",
    "The product $y . x$ cannot be computed.<br>\n",
    "The shape of $y$ is $(2, 3)$ and the shape of $x$ is $(2, 2)$.<br>\n",
    "Thus, the matrix multiplication between the matrix $y$ with shape $(2, 3)$ and $x$ with shape $(2, 2)$ is ill-defined.<br>\n",
    "Python also throws a $$\\textit{ValueError}$$ exception when the operation $$\\textit{y.dot(x)}$$ is executed"
   ]
  },
  {
   "cell_type": "code",
   "execution_count": null,
   "metadata": {},
   "outputs": [],
   "source": [
    "x = np.array([[1, 2], [3, 4]])\n",
    "\n",
    "# Compute the sum of all elements\n",
    "print(np.sum(x))\n",
    "\n",
    "# Compute the sum of each column\n",
    "print(np.sum(x, axis=0))\n",
    "\n",
    "# Compute the sum of each row\n",
    "print(np.sum(x, axis=1))"
   ]
  },
  {
   "cell_type": "markdown",
   "metadata": {},
   "source": [
    "16. Question 16"
   ]
  },
  {
   "cell_type": "code",
   "execution_count": null,
   "metadata": {},
   "outputs": [],
   "source": [
    "x = np.array([[1, 2, 3], [3, 4, 5]])\n",
    "print(x)\n",
    "print(x.T)"
   ]
  },
  {
   "cell_type": "code",
   "execution_count": null,
   "metadata": {},
   "outputs": [],
   "source": [
    "print(x.shape)\n",
    "print(x.T.shape)"
   ]
  },
  {
   "cell_type": "markdown",
   "metadata": {},
   "source": [
    "In the above snippet, $x$ is $$\\begin{bmatrix} \\begin{bmatrix} 1 & 2 & 3 \\end{bmatrix} \\\\ \\begin{bmatrix} 3 & 4 & 5 \\end{bmatrix} \\end{bmatrix}$$\n",
    "The shape of $x$ is $(2, 3)$<br>\n",
    "$x^T$ is $$\\begin{bmatrix} \\begin{bmatrix} 1 & 3 \\end{bmatrix} \\\\ \\begin{bmatrix} 2 & 4 \\end{bmatrix} \\\\ \\begin{bmatrix} 3 & 5 \\end{bmatrix} \\end{bmatrix}$$\n",
    "The shape of $x^T$ is $(3, 2)$<br>\n",
    "The code $\\textit{x.T}$ transposes the matrix $x$"
   ]
  }
 ],
 "metadata": {
  "kernelspec": {
   "display_name": "Python 3",
   "language": "python",
   "name": "python3"
  },
  "language_info": {
   "codemirror_mode": {
    "name": "ipython",
    "version": 3
   },
   "file_extension": ".py",
   "mimetype": "text/x-python",
   "name": "python",
   "nbconvert_exporter": "python",
   "pygments_lexer": "ipython3",
   "version": "3.7.3"
  }
 },
 "nbformat": 4,
 "nbformat_minor": 2
}
