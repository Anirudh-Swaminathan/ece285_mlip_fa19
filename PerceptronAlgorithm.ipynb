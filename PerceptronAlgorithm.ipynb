{
 "cells": [
  {
   "cell_type": "markdown",
   "metadata": {},
   "source": [
    "# Perceptron algorithm"
   ]
  },
  {
   "cell_type": "markdown",
   "metadata": {},
   "source": [
    "In this notebook, we will implement the perceptron algorithm for a simple 2d discrimination problem, have a look at the loss function and see the evolution of the solution within the iterations."
   ]
  },
  {
   "cell_type": "code",
   "execution_count": null,
   "metadata": {},
   "outputs": [],
   "source": [
    "%matplotlib notebook\n",
    "\n",
    "import numpy as np\n",
    "from matplotlib import cm\n",
    "import matplotlib.pyplot as plt\n",
    "from matplotlib.ticker import LinearLocator, FormatStrFormatter\n",
    "from mpl_toolkits.mplot3d import Axes3D\n",
    "import time"
   ]
  },
  {
   "cell_type": "code",
   "execution_count": null,
   "metadata": {},
   "outputs": [],
   "source": [
    "# Fix seed\n",
    "np.random.seed(seed=5)"
   ]
  },
  {
   "cell_type": "markdown",
   "metadata": {},
   "source": [
    "## 2d data generation of two classes that are likely to be linearly separable"
   ]
  },
  {
   "cell_type": "code",
   "execution_count": null,
   "metadata": {},
   "outputs": [],
   "source": [
    "# Size of the training set\n",
    "N = 100\n",
    "\n",
    "# Generate desired labels\n",
    "d = np.random.choice([-1, 1], size=N)\n",
    "\n",
    "# Generate 2d data\n",
    "idx = d == 1\n",
    "x = np.zeros((N, 2))\n",
    "x[~idx, :] = [0, 2]\n",
    "x[idx, :] = [2, 0]\n",
    "x[:50, 0] += -2\n",
    "x[:50, 1] += -2\n",
    "x = x + np.random.randn(N, 2)/2"
   ]
  },
  {
   "cell_type": "code",
   "execution_count": null,
   "metadata": {
    "scrolled": false
   },
   "outputs": [],
   "source": [
    "# Data visualization\n",
    "plt.figure(dpi=72)\n",
    "plt.plot(x[idx, 0], x[idx, 1], 'or', label='positive')\n",
    "plt.plot(x[~idx, 0], x[~idx, 1], 'ob', label='negative')\n",
    "plt.axis('equal')\n",
    "plt.xlabel('first feature $x_1$')\n",
    "plt.ylabel('second feature $x_2$')\n",
    "plt.legend()\n",
    "plt.show()"
   ]
  },
  {
   "cell_type": "markdown",
   "metadata": {},
   "source": [
    "## Model"
   ]
  },
  {
   "cell_type": "markdown",
   "metadata": {},
   "source": [
    "In this experiments the data have been generated in a way that a separating hyperplane pass through (0,0), such that we can choose the bias as $b=0$."
   ]
  },
  {
   "cell_type": "code",
   "execution_count": null,
   "metadata": {},
   "outputs": [],
   "source": [
    "b = 0"
   ]
  },
  {
   "cell_type": "markdown",
   "metadata": {},
   "source": [
    "The purpose is to find the two synaptic weights $w_1$ and $w_2$ that encode an hyplerplane separating the data."
   ]
  },
  {
   "cell_type": "markdown",
   "metadata": {},
   "source": [
    "## Defining the loss"
   ]
  },
  {
   "cell_type": "markdown",
   "metadata": {},
   "source": [
    "Given $w$ and a collection of $x$ and $d$, the perceptron loss can be implemented by making the observation:\n",
    "\n",
    "$$ \\sum_{\\substack{(x, d)\\\\y = <w, x> \\ne d}} \\! - d < w, x > \\;=\\; \\sum_{(x, d)} \\max(- d < w, x >, 0 $$"
   ]
  },
  {
   "cell_type": "code",
   "execution_count": null,
   "metadata": {},
   "outputs": [],
   "source": [
    "loss = lambda w, x, d : np.maximum(-d * x.dot(w), 0).sum()"
   ]
  },
  {
   "cell_type": "markdown",
   "metadata": {},
   "source": [
    "where $w = (w_1, w_2)^T$ is a column vector containing both synaptic weights."
   ]
  },
  {
   "cell_type": "markdown",
   "metadata": {},
   "source": [
    "## Let us visualize the loss"
   ]
  },
  {
   "cell_type": "markdown",
   "metadata": {},
   "source": [
    "Since we have only two parameters $w_1$ and $w_2$, this is convenient as we can display the evolution of the loss with respect to these two parameters.\n",
    "\n",
    "To this end, we will consider $Z$ values for $w_1$ ranging from $-10$ and $10$. We will also consider $Z$ values for $w_2$ ranging from $-10$ and $10$. To generate all combinations ($Z^2$) of these two parameter values, we will use the meshgrid function."
   ]
  },
  {
   "cell_type": "code",
   "execution_count": null,
   "metadata": {},
   "outputs": [],
   "source": [
    "Z = 30\n",
    "w1_grid = np.linspace(-10, 10, Z)\n",
    "w2_grid = np.linspace(-10, 10, Z)\n",
    "w1_mesh, w2_mesh = np.meshgrid(w1_grid, w2_grid, indexing='ij')\n",
    "w_mesh = np.stack((w1_mesh, w2_mesh), axis=2)"
   ]
  },
  {
   "cell_type": "markdown",
   "metadata": {},
   "source": [
    "Now we can evaluate the total loss on that grid"
   ]
  },
  {
   "cell_type": "code",
   "execution_count": null,
   "metadata": {},
   "outputs": [],
   "source": [
    "loss_mesh_total = \\\n",
    "    np.array([[loss(w_mesh[i,j], x, d) \\\n",
    "               for j in range(Z)] for i in range(Z)])"
   ]
  },
  {
   "cell_type": "markdown",
   "metadata": {},
   "source": [
    "We can also evaluate the loss if we consider $1$, $2$ or $3$ samples."
   ]
  },
  {
   "cell_type": "code",
   "execution_count": null,
   "metadata": {},
   "outputs": [],
   "source": [
    "loss_mesh_subset = \\\n",
    "    [np.array([[loss(w_mesh[i,j], x[:k], d[:k]) \\\n",
    "                for j in range(Z)] for i in range(Z)]) \\\n",
    "     for k in range(1, 4)]"
   ]
  },
  {
   "cell_type": "markdown",
   "metadata": {},
   "source": [
    "Now we display all of that"
   ]
  },
  {
   "cell_type": "code",
   "execution_count": null,
   "metadata": {
    "scrolled": false
   },
   "outputs": [],
   "source": [
    "fig = plt.figure(figsize=np.array([2*6.4, 2*4.8]), dpi=72)\n",
    "ax = [fig.add_subplot(2, 2, k+1, projection='3d') \\\n",
    "      for k in range(4)]\n",
    "for k in range(4):\n",
    "    ax[k].plot_wireframe(w1_mesh, w2_mesh, \\\n",
    "                         loss_mesh_subset[k] if k < 3 else \\\n",
    "                         loss_mesh_total, \\\n",
    "                         alpha=0.8)\n",
    "    n = np.array([1, 2, 3, N])[k]\n",
    "    for l in range(n):\n",
    "        xb = 10 * x[l] / np.sqrt(sum(x[l]**2)) \n",
    "        ax[k].plot([-xb[1], xb[1]], [+xb[0], -xb[0]], \\\n",
    "                   'k-', alpha=np.sqrt(1/n), \\\n",
    "                   label='normal to $x_k$' if l == 0 else None)\n",
    "ax[0].set_title('Loss landscape for 1 sample')\n",
    "ax[1].set_title('Loss landscape for 2 samples')\n",
    "ax[2].set_title('Loss landscape for 3 samples')\n",
    "ax[3].set_title('Total loss landscape')\n",
    "for k in range(4):\n",
    "    ax[k].set_xlabel('$w_1$')\n",
    "    ax[k].set_ylabel('$w_2$')\n",
    "    ax[k].set_zlabel('Loss')\n",
    "    ax[k].set_xticks([], [])\n",
    "    ax[k].set_yticks([], [])\n",
    "    ax[k].set_zticks([], [])\n",
    "    ax[k].legend()\n",
    "fig.tight_layout()"
   ]
  },
  {
   "cell_type": "markdown",
   "metadata": {},
   "source": [
    "## Let's run the algorithm"
   ]
  },
  {
   "cell_type": "markdown",
   "metadata": {},
   "source": [
    "First of all, we will prepare three subfigures in which we will display the result: loss landscape, loss evolution with the iterations, and the data with the hyperplane."
   ]
  },
  {
   "cell_type": "code",
   "execution_count": null,
   "metadata": {
    "scrolled": false
   },
   "outputs": [],
   "source": [
    "fig = plt.figure(figsize=np.array([2*6.4, 4.8]), dpi=72)\n",
    "ax1 = fig.add_subplot(1, 3, 1, projection='3d')\n",
    "ax2 = fig.add_subplot(1, 3, 2)\n",
    "ax3 = fig.add_subplot(1, 3, 3)\n",
    "\n",
    "ax1.set_title('Loss landscape')\n",
    "ax1.plot_wireframe(w1_mesh, w2_mesh, \\\n",
    "                   loss_mesh_total, alpha=0.2)\n",
    "ax1.set_xlabel('$w_1$')\n",
    "ax1.set_ylabel('$w_2$')\n",
    "ax1.set_zlabel('Loss')\n",
    "ax1.set_xticks([], [])\n",
    "ax1.set_yticks([], [])\n",
    "ax1.set_zticks([], [])\n",
    "\n",
    "ax2.set_title('Loss at each update')\n",
    "ax2.set_xlim(0, 19)\n",
    "ax2.set_ylim(0, 1400)\n",
    "ax2.set_xlabel('Iteration')\n",
    "ax2.set_ylabel('Loss')\n",
    "\n",
    "ax3.set_title('Data and separator')\n",
    "ax3.plot(x[idx, 0], x[idx, 1], 'ob')\n",
    "ax3.plot(x[~idx, 0], x[~idx, 1], 'or')\n",
    "ax3.axis('equal')\n",
    "ax3.set_xlim(-5, 5)\n",
    "ax3.set_ylim(-5, 5)\n",
    "ax3.set_xlabel('$x_2$')\n",
    "ax3.set_ylabel('$x_1$')\n",
    "\n",
    "fig.tight_layout()"
   ]
  },
  {
   "cell_type": "markdown",
   "metadata": {},
   "source": [
    "Now we can implement the algorithm that will update the three above subfigures."
   ]
  },
  {
   "cell_type": "code",
   "execution_count": null,
   "metadata": {},
   "outputs": [],
   "source": [
    "# Initialization\n",
    "w = np.array([-9, 7])\n",
    "\n",
    "# Number of epochs\n",
    "T = 2\n",
    "\n",
    "loss_t = np.zeros(N * T)\n",
    "for t in range(T):\n",
    "    for i in range(N):\n",
    "        # iteration index\n",
    "        k = t * N + i\n",
    "\n",
    "        # Compute prediction\n",
    "        y = np.sign(x[i].dot(w))\n",
    "        if y != d[i]:\n",
    "            # Update synaptic weights\n",
    "            w = w + d[i] * x[i]\n",
    "\n",
    "        # Store current loss\n",
    "        loss_t[k] = loss(w, x, d)\n",
    "        \n",
    "        # Update display only the first time or when changed occur\n",
    "        if y != d[i] or not ax3.patches:\n",
    "\n",
    "            # Delete previous drawing if any\n",
    "            if ax3.patches:\n",
    "                del ax2.lines[-1]\n",
    "                del ax3.lines[-1]\n",
    "                del ax3.patches[:]\n",
    "            \n",
    "            # Draw the current solution on the landscape\n",
    "            ax1.scatter(w[0], w[1], loss_t[k], \\\n",
    "                        color='k', marker='o')\n",
    "            ax1.text(w[0]+1, w[1]+1, loss_t[k], \\\n",
    "                     '%d' % (t*N+i), \\\n",
    "                     size=8, zorder=1, color='k')\n",
    "            \n",
    "            # Draw the separator\n",
    "            wb = 4.5 / np.sqrt(np.sum(w**2)) * w\n",
    "            h = ax3.plot(np.array([-1, 1]) * -wb[1], \\\n",
    "                         np.array([-1, 1]) * wb[0], \\\n",
    "                         'k-', alpha=.2)\n",
    "            \n",
    "            # Draw triangles to know which side is which\n",
    "            wb = 3.7 / np.sqrt(np.sum(w**2)) * w;\n",
    "            ax3.fill(-wb[1] + np.array([-wb[1] / 20, +wb[1] / 20, \\\n",
    "                                        +wb[0] / 15]), \n",
    "                     +wb[0] + np.array([+wb[0] / 20, -wb[0] / 20, \\\n",
    "                                        +wb[1] / 15]), \n",
    "                     'b', alpha=.2)\n",
    "            ax3.fill(+wb[1] + np.array([+wb[1] / 20, -wb[1] / 20, \\\n",
    "                                        -wb[0] / 15]), \n",
    "                     -wb[0] + np.array([-wb[0] / 20, +wb[0] / 20, \\\n",
    "                                        -wb[1] / 15]), \n",
    "                     'r', alpha=.2)\n",
    "            ax3.fill(-wb[1] + np.array([-wb[1] / 20, +wb[1] / 20, \\\n",
    "                                        -wb[0] / 15]), \n",
    "                     +wb[0] + np.array([+wb[0] / 20, -wb[0] / 20, \\\n",
    "                                        -wb[1] / 15]), \n",
    "                     'r', alpha=.2)\n",
    "            ax3.fill(+wb[1] + np.array([+wb[1] / 20, -wb[1] / 20, \\\n",
    "                                        +wb[0] / 15]), \n",
    "                     -wb[0] + np.array([-wb[0] / 20, +wb[0] / 20, \\\n",
    "                                        +wb[1] / 15]), \n",
    "                     'b', alpha=.2)\n",
    "            \n",
    "            # Draw loss\n",
    "            ax2.plot(loss_t[:(k+1)], 'k')\n",
    "            \n",
    "            # Force display and wait\n",
    "            fig.canvas.draw()\n",
    "            fig.canvas.flush_events()\n",
    "            time.sleep(1)\n"
   ]
  }
 ],
 "metadata": {
  "kernelspec": {
   "display_name": "Python [conda env:python-3.6]",
   "language": "python",
   "name": "conda-env-python-3.6-py"
  },
  "language_info": {
   "codemirror_mode": {
    "name": "ipython",
    "version": 3
   },
   "file_extension": ".py",
   "mimetype": "text/x-python",
   "name": "python",
   "nbconvert_exporter": "python",
   "pygments_lexer": "ipython3",
   "version": "3.6.8"
  }
 },
 "nbformat": 4,
 "nbformat_minor": 2
}
